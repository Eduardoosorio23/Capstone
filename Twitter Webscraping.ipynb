{
 "cells": [
  {
   "cell_type": "code",
   "execution_count": 1,
   "metadata": {
    "scrolled": true
   },
   "outputs": [],
   "source": [
    "# !pip install twint\n",
    "# !pip install --user --upgrade git+https://github.com/twintproject/twint.git@origin/master#egg=twint\n"
   ]
  },
  {
   "cell_type": "code",
   "execution_count": 2,
   "metadata": {},
   "outputs": [],
   "source": [
    "import twint\n",
    "import pandas as pd\n",
    "\n",
    "import nest_asyncio \n",
    "nest_asyncio.apply()"
   ]
  },
  {
   "cell_type": "code",
   "execution_count": 5,
   "metadata": {},
   "outputs": [],
   "source": [
    "c = twint.Config()\n",
    "\n",
    "c.Search = \"Gamestop\" #search must contain \"\"\n",
    "c.Min_likes = 1000 #min number of likes\n",
    "c.Until = \"2021-03-22\" #return tweets that were published before this date\n",
    "c.Since = \"2020-03-22\" #return tweets published after this day\n",
    "c.Count = True\n",
    "c.Limit = 10 # Limits the tweets to this number\n",
    "# c.Format = \"Date: {date} | Tweet: {tweet} \"\n",
    "c.Store_csv = True\n",
    "c.Output = 'Gamestop.csv'"
   ]
  },
  {
   "cell_type": "code",
   "execution_count": 6,
   "metadata": {
    "scrolled": true
   },
   "outputs": [
    {
     "name": "stdout",
     "output_type": "stream",
     "text": [
      "1373360585249726465 2021-03-20 14:47:33 -0500 <RapAllStars> NBA YoungBoy showing love to a fan at GameStop.  https://t.co/CDSmQaFhcB\n",
      "1370906368274731008 2021-03-13 19:15:23 -0500 <CasualHoya> GEORGETOWN IS THE GAMESTOP OF COLLEGE BASKETBALL.\n",
      "1370419906844504064 2021-03-12 11:02:21 -0500 <WSBChairman> Forget the dollar. GameStop in-store credits are the currency of the future.\n",
      "1370208698707103747 2021-03-11 21:03:05 -0500 <OriginalFunko> RT &amp; follow @OriginalFunko for the chance to WIN this @GameStop exclusive Venomized Gwenpool Pop!  https://t.co/04bpBFAzxn #Funko #FunkoPop #Marvel #Gwenpool  https://t.co/YU5QZszOjn\n",
      "1370018170627575808 2021-03-11 08:26:00 -0500 <wsbmod> I just got off the phone with Gamestop customer service.  They said \"Please hold.\"\n",
      "1369708947175792646 2021-03-10 11:57:15 -0500 <PFTCommenter> Livelook at my hands after I forgot to sell gamestop like a month ago  https://t.co/reyoXuC3Od\n",
      "1369704381810151425 2021-03-10 11:39:07 -0500 <michaelbatnick> GameStop just fell 40% in 15 minutes.   If you don't think this could happen to the S&amp;P 500, you're right.\n",
      "1369691363235655681 2021-03-10 10:47:23 -0500 <ShivamChatak> Everything with GameStop is making me realize how I should have invested more time in our relationship. I treated it like a Game and I wish it never Stopped.  https://t.co/l8sACEzewJ\n",
      "1369688338253422592 2021-03-10 10:35:22 -0500 <BawbDylan> me with my one measly gamestop share  https://t.co/Q48GVWSjMn\n",
      "1369684495222378503 2021-03-10 10:20:05 -0500 <OrdinaryGamers> GameStop stock is surging again wtf is happening.\n",
      "1369674632886956033 2021-03-10 09:40:54 -0500 <ParikPatelCFA> Traders: \"I missed the $GME rally I can't believe that everyone got rich without me\"  Gamestop:  https://t.co/yCywHTkRPJ\n",
      "1369648435624894470 2021-03-10 07:56:48 -0500 <dougboneparth> Just a matter of time before GameStop does a stock split, gets added to the S&amp;P 500 and converts its balance sheet to bitcoin.\n",
      "1369639280830803968 2021-03-10 07:20:25 -0500 <ParikPatelCFA> Gamestop is like bitcoin and all the other meme stocks are like alt-coins\n",
      "1369327368758730752 2021-03-09 10:41:00 -0500 <Cokedupoptions> DeepFuckingValue said he likes the stock on national TV, and GameStop went up 400%.   What happens when he loves a stock?\n",
      "1369258845487382528 2021-03-09 06:08:43 -0500 <JustinMcElroy> If you stopped following GameStop stock after it dropped the first time, you're missing its somehow even wilder second spike. In the past week, basically a ton of the market has shifted a bunch of money out of forward looking, not profitable companies and into re-opening plays:\n",
      "1369050828833710086 2021-03-08 16:22:07 -0500 <JohnPompliano> If you had invested your $1,200 stimulus check in GameStop on April 15th, you would have $44,288 today.\n",
      "1369046833046167553 2021-03-08 16:06:15 -0500 <APompliano> UPDATE: Gamestop closed today at $194 per share.  The internet always wins.\n",
      "1369030467257794560 2021-03-08 15:01:13 -0500 <zerohedge> GAMESTOP CLOSES UP 41% AT $194.50, HIGHEST SINCE FEB. 1  everything is so broken\n",
      "1365057115623161856 2021-02-25 15:52:32 -0500 <ParikPatelCFA> \"I heard he invested in Gamestop at $20\"  https://t.co/XKLMHZ3XzR\n",
      "1365005198226292740 2021-02-25 12:26:14 -0500 <wallstreetbets> BREAKING: GameStop to sell shares of $GME over the counter at their stores in lieu of video games.\n",
      "1364982449164451847 2021-02-25 10:55:50 -0500 <DocumentingBTC> GameStop could stop the game if they bought #bitcoin\n",
      "1364931260049731588 2021-02-25 07:32:26 -0500 <dougboneparth> It’s the year 2032. GameStop is pumped for the 74th time. Coinbase has become the largest publicly traded company on earth. A CryptoPunk sells for $2.1B and Charlie Munger turns 108.\n",
      "1364725053787668480 2021-02-24 17:53:02 -0500 <wsbmod> DFV's Gamestop price target  https://t.co/8JiDfE5RCZ\n",
      "1364719677675622409 2021-02-24 17:31:41 -0500 <jon_bois> the reason gamestop stock is going up is that more and more people are playing video games these days\n",
      "1364701662724587520 2021-02-24 16:20:05 -0500 <UberFacts> In 2017, an 11-year-old bought a second-hand copy of \"GTA V\" from a GameStop in Florida and found a bag of meth inside\n",
      "1364697070117023747 2021-02-24 16:01:51 -0500 <wsbmod> GAMESTOP 🚀🚀🚀🚀🚀  https://t.co/4783xxa3pd\n",
      "1364690801222160392 2021-02-24 15:36:56 -0500 <CryptoCuIture> GameStop we are back, FUCK THE SUITS   https://t.co/2ag8iioRSS\n",
      "1364690492722614272 2021-02-24 15:35:42 -0500 <PhillyD> Oh no. The GameStop memes are back. 🙌💎\n",
      "1364690486246707200 2021-02-24 15:35:41 -0500 <ParikPatelCFA> If you liked Gamestop in January, you'll LOVE it in February\n",
      "1364687042400030726 2021-02-24 15:22:00 -0500 <wsbmod> BREAKING: All of Reddit is down.  Gamestop still up tho 😏  https://t.co/Cxxa29rsmX\n",
      "1364684368296476685 2021-02-24 15:11:22 -0500 <aphrodiddy> since reddit took it down here you go 😌 #gme #gamestop  https://t.co/iL1ElUfN6T\n",
      "1364683065700847624 2021-02-24 15:06:12 -0500 <business> GameStop shares closed up more than 100%  https://t.co/7kLKZpiJeB  https://t.co/absD5ZvpxO\n",
      "1364682826084450310 2021-02-24 15:05:14 -0500 <APompliano> Gamestop up 100% today 👀\n",
      "1364682100897685509 2021-02-24 15:02:22 -0500 <PardonMyMeme> Hedge funds seeing GameStop go to the moon again  https://t.co/CSXA0b11kD\n",
      "1364681869325983753 2021-02-24 15:01:26 -0500 <dougboneparth> If you liked it when Robinhood stopped trading GameStop the first time, you’re going to love it when they stop trading it a second time.\n",
      "1364681357125840896 2021-02-24 14:59:24 -0500 <wsbmod> Went to my local gamestop to get some new sega genesis games but ended up buying this instead.  https://t.co/cRXFMX5S6n\n",
      "1364678789956063232 2021-02-24 14:49:12 -0500 <Slasher> here we go again gamestop up over 100% in the last hour  https://t.co/Jb0ZU210xF\n",
      "1364678644459831299 2021-02-24 14:48:37 -0500 <litcapital> Mfs will create technical charts like this and then buy two shares of GameStop  https://t.co/5jxebYSASb\n",
      "1364654128660635657 2021-02-24 13:11:12 -0500 <DanPriceSeattle> GameStop closed 400+ stores, laid off 14% of corporate staff, told employees to disobey shutdown orders in the early days of the pandemic and had them do TikTok dance videos to compete for holiday hours.  Its CFO just left with a $2.8 million bonus  https://t.co/Go816LI6yS\n",
      "1364607165655310336 2021-02-24 10:04:36 -0500 <NetflixFR> - Avatar : Le Dernier Maître de l’Air (la série en live-action) - Cowboy Bebop (la série en live-action) - One Piece (la série en live-action) - Cyberpunk Edgerunners - Les séries et films Narnia - La série d’animation Splinter Cell - Le documentaire sur l’affaire Gamestop\n",
      "1364433263096336387 2021-02-23 22:33:34 -0500 <CorgiLoverss> Family photo ♥️  #dogsoftwitter #GameStop  https://t.co/WPp7DvbVPD\n",
      "1364324912396140554 2021-02-23 15:23:01 -0500 <ConanOBrien> Okay guys, I finally caved and bought stock in GameStop. Wish me luck!\n",
      "1363905382691840004 2021-02-22 11:35:58 -0500 <werlyb> En la Sexta me sacaron como cobrador de acciones de GameStop y en telecinco salgo cieguísimo perreando al suelo.  Quien no me conozca se va a pensar que soy un Rockstar como Duki.\n",
      "1363289921146953730 2021-02-20 18:50:20 -0500 <surrealsoulja> @Thamsanqa_4 We just proved when poor people invest the government goes crazy and they block markets.... GameStop literally just happened 🤦🏾‍♂️\n",
      "1362963551279853572 2021-02-19 21:13:27 -0500 <jimcramer> Here's what's wrong with those who attack me for telling people to sell Gamestop at $350 and defend owning it at $50 or $40. There is one goal: to make money. These are stocks, NOT companies.\n",
      "1362816787423854596 2021-02-19 11:30:16 -0500 <OriginalFunko> Coming soon: Prepare your Pop! collection for the Pop! Games: Mortal Kombat- Mileena⚔️ (@GameStop exclusive). FINISH HIM - Pre-order yours now!  https://t.co/9T5zpYZkhR #Funko #FunkoPop #MortalKombat  https://t.co/h7cvTZ0EuS\n",
      "1362588988431880194 2021-02-18 20:25:05 -0500 <redditinvestors> In September 2019 Keith Gill posted a screen shot on WSB saying \"Yolo\" with roughly $53,000 in a GameStop long position.  The position was 50,000 shares and 500 call options.  By January 27, 2021, Gill's original investment was $48 million.  https://t.co/UbCipNap5k\n",
      "1362516966569897985 2021-02-18 15:38:53 -0500 <TheStalwart> It still bothers me that the big scandal was that costumers weren't able to buy GameStop shares at a 1000% overvalued price.\n",
      "1362502782524084224 2021-02-18 14:42:32 -0500 <dril> KitsuneHorace says theres a secret game stop located under the Lincoln Memorial where congressmen are allowed to shop without wearing a Mask\n",
      "1362500514756321285 2021-02-18 14:33:31 -0500 <videogamedeals> Follow CAG &amp; Retweet for a Chance to Win Some Zelda: Skyward Sword Joy Cons. Ends Feb. 28th at 9PM ET. USA Only. Available Now via GameStop.  https://t.co/DAfjR6uBs0  https://t.co/QXf7tpFYrd\n",
      "1362458489172488196 2021-02-18 11:46:31 -0500 <YahooFinance> “I am not a cat, I am not an institutional investor, nor am I a hedge fund,” Keith Gill (@TheRoaringKitty) tells the House Committee on Financial Services. “I’m just an individual whose investment in GameStop and posts on social media were based on my own research and analysis.”  https://t.co/FLxSHfUpZW\n",
      "1362457626295074823 2021-02-18 11:43:06 -0500 <MEPFuller> It’s so damn fitting that the random GameStop investor they brought for this hearing is sitting in a gamer chair, using a streamer mic, and has a little cat poster in the background that says “Hang in there.”  He knows his role here is to be a meme, and he nailed it.  https://t.co/k0Qnu39M4G\n",
      "1362452560456675328 2021-02-18 11:22:58 -0500 <Slasher> the gamestop hearing with testimony from Robinhood, Reddit CEOs and Roaring Kitty has started. godspeed DFV  https://t.co/rry9OZL47W\n",
      "1362392918938554369 2021-02-18 07:25:58 -0500 <jtdaugh> This is hilarious.   /u/DeepFuckingValue turned his House testimony into a 5-pager on why GameStop is still undervalued   https://t.co/KXbL8ZNhmO\n",
      "1362234637037182977 2021-02-17 20:57:01 -0500 <JennyENicholson> Gamestop is taking preorders for a $100 metal pokeball which doesn't open and can't be thrown\n",
      "1362102440645046278 2021-02-17 12:11:43 -0500 <SerebiiNet> Serebii Note: Gamestop have confirmed the reports of the Shiny Toxtricity event will be held in the US starting February 19th 2021  https://t.co/gDbXkHSvkT  https://t.co/i8JaFByFYf\n",
      "1361944619441864704 2021-02-17 01:44:35 -0500 <Super70sSports> “Icing happen when the puck come down, bang, you know, before the other guys. Nobody there, you know. My arm go comes up then the game stop then start up.\"  https://t.co/y1elwPJJ8V\n",
      "1361868782126452742 2021-02-16 20:43:14 -0500 <MattWallace888> Hey @vladtenev (CEO of @RobinhoodApp)  Remember that time @elonmusk asked you to explain why you put a halt on trading for Gamestop stock, Dogecoin, and a few others?   No more dodging DOGE questions and hiding behind scripted answers...  WE DEMAND TRANSPARENCY!   #RobbingHood\n",
      "1361619842080460802 2021-02-16 04:14:02 -0500 <reggiewebber> when i think of jc caylen 1. art teacher that smells like weed 2. the word rustic 3. cool clothes  4. has probably beat up a gamestop employee\n",
      "1361476139714248705 2021-02-15 18:43:01 -0500 <franklinbynum> In 2001, the Texas Legislature turned over the electricity grid to Wall Street. They trade megawatts like Gamestop stock while we literally freeze to death. Time to get to work, y’all, we can’t live like this\n",
      "1361314338263478273 2021-02-15 08:00:04 -0500 <WSJ> A 25-year-old security guard was so enthusiastic about GameStop that he took out a $20,000 personal loan and used it to buy shares. Now his investment is down nearly 80%. Other small-time investors have lost big, too.  https://t.co/hNLdDtSdyD\n",
      "1361077770491744259 2021-02-14 16:20:02 -0500 <alifarhat79> Parik Patel (dr. PP) after selling GameStop at $480  https://t.co/M5Y3CH3baZ\n",
      "1360448467160584192 2021-02-12 22:39:25 -0500 <Mikel_Jollett> @gaetormom Buy. Game. Stop.\n",
      "1360403631288299523 2021-02-12 19:41:15 -0500 <Slasher> Robinhood, Reddit, Citadel CEO's have been called in to testify at the GameStop hearing next week and the feds are now investigating for market manipulation. the 12 different movies about this story are going to be fascinating\n",
      "1360287490788130816 2021-02-12 11:59:45 -0500 <theRealKiyosaki> Why silver.  Love Elon investing billion in Bitcoin. Silver next. Silver still 50% below all time high.  Green New Deal to increase demand. Apple, Tesla &amp; Big pharma need more silver. Why Reddit Raiders failed on silver? GameStop fake asset. Silver real asset. Real FOMO coming\n",
      "1360022574021791744 2021-02-11 18:27:04 -0500 <Neil_Druckmann> @corybarlog FINE! I’ll be in your stupid game. Stop subtweeting me... geez.\n",
      "1359253008798932992 2021-02-09 15:29:05 -0500 <CauseWereGuys> Hi. welcome to Gamestop  https://t.co/ekdP2Zls9Q\n",
      "1358912348602458116 2021-02-08 16:55:25 -0500 <nikillinit> we need personal finance strategies that aren't as boring as investing in low cost index funds, not as risky as YOLOing on gamestop, and more attainable than homeownership\n",
      "1358641751653777409 2021-02-07 23:00:10 -0500 <CNN> A 20-year-old college student donated multiple Nintendo Switch consoles and games to Children's Minnesota Hospital in Minneapolis after cashing out almost $30,000 in GameStop stock  https://t.co/dTxhmD7QPP  https://t.co/JsI1RaaYC5\n",
      "1358630719929503746 2021-02-07 22:16:20 -0500 <GiggukAZ> Do you think Gamestop will allow me to trade in my second hand copy of League of Legends\n",
      "1358601014757257217 2021-02-07 20:18:18 -0500 <PFTCommenter> GameStop Tom Brady AMC Shaggy. 1994 is very much a live\n",
      "1358591923431354370 2021-02-07 19:42:10 -0500 <WSBChairman> What my phone sees when Robinhood doesn’t let me buy GameStop😤 #SuperBowl  https://t.co/aVUd1A2P57\n",
      "1358304729218961410 2021-02-07 00:40:58 -0500 <itsALLrisky> #Dogecoin is the movement that GameStop wanted to be #DOGE #dogeto1dollar #dogecoinrise\n",
      "1358295215929516032 2021-02-07 00:03:10 -0500 <SerebiiNet> Serebii Update: Signage has started to appear for Gamestop in the US and EB Games showing that there will be a distribution of Shiny Toxtricity for Sword &amp; Shield from February 19th. Details @  https://t.co/gDbXkHSvkT  https://t.co/EA7wWO7Cav\n",
      "1358279361749786629 2021-02-06 23:00:10 -0500 <CNN> A 20-year-old college student donated multiple Nintendo Switch consoles and games to Children's Minnesota Hospital in Minneapolis after cashing out almost $30,000 in GameStop stock  https://t.co/zJZIjEVpPI  https://t.co/tnaPU1NCkc\n",
      "1357916979236139009 2021-02-05 23:00:11 -0500 <CNN> A 20-year-old college student donated multiple Nintendo Switch consoles and games to Children's Minnesota Hospital in Minneapolis after cashing out almost $30,000 in GameStop stock  https://t.co/83BMdS4CmP  https://t.co/qNyTrr2Yud\n",
      "1357794438790135814 2021-02-05 14:53:15 -0500 <Nibellion> HBO has announced a movie on the GameStop stock market saga    https://t.co/6WWJDX1NcT  https://t.co/PbkeAKKVGj\n",
      "1357792361561149443 2021-02-05 14:45:00 -0500 <g1> Garoto de 10 anos tem retorno de 5.000% com ações da GameStop  https://t.co/ppUuNWT8W7 #G1  https://t.co/XjVOQ7E0Ar\n",
      "1357766156535406598 2021-02-05 13:00:52 -0500 <WSBChairman> \"There's our little Bitcoin investor!\"  \"He also sold GameStop at the top.\"  \"Are you the next Warren Buffet?\"  https://t.co/ol4SFjNvEe\n",
      "1357712085329842180 2021-02-05 09:26:00 -0500 <jimcramer> Bitcoin! Genius!!! Gamestop needs to be a 5000 store bitcoin palace!!! I cannot believe how brilliant that would be... They can sell stock buy a ton of bitcoin and just hold on. Call it Bitstop. Or Gamecoin.  wow!\n"
     ]
    },
    {
     "name": "stdout",
     "output_type": "stream",
     "text": [
      "1357550240224710656 2021-02-04 22:42:53 -0500 <redditinvestors> Robinhood removes limits on all stocks including GameStop.\n",
      "1357380348393517058 2021-02-04 11:27:48 -0500 <barronsonline> Long before GameStop, there was Piggly Wiggly. In 1923, the supermarket company—which still does business in the South and Midwest—was at the center of a short squeeze/market morality play that echoes the recent frenzy around $GME. https://t.co/gU9raPAzDK\n",
      "1357323313752768513 2021-02-04 07:41:10 -0500 <williamlegate> .@davidhogg111 and I are offering the hedge fund managers who lost billions on Gamestop free pillows so they have something to cry into at night.\n",
      "1357301815314960386 2021-02-04 06:15:44 -0500 <DKThomp> My honest to god last thought about GameStop is that a lot of people are clearly desperate to connect with something emotional when they open their phones or turn on the TV, and they’d rather participate in a nonsense morality play than participate in nothing at all.\n",
      "1357192882676002817 2021-02-03 23:02:53 -0500 <profthomlambert> My former colleague @HawleyMO, whom I recruited to Mizzou Law and consider a friend, penned this @firstthingsmag piece. He argues that Robinhood’s restriction on GameStop trading was a Big Tech conspiracy to hold down the little guy. A few thoughts. 1/x  https://t.co/Zfl1Rb75nj\n",
      "1357161984031141891 2021-02-03 21:00:06 -0500 <OriginalFunko> RT &amp; follow @OriginalFunko for the chance to WIN this @GameStop exclusive Miles Morales (Programmable Matter Suit) Pop!  https://t.co/RlvD3vtrp1 #Funko #FunkoGiveaway #Marvel #MilesMorales  https://t.co/gZqzrnr1h5\n",
      "1357117971685142534 2021-02-03 18:05:13 -0500 <lexfridman> The power of the internet revealed through GameStop trading is inspiring. It's a reminder that people still have power to challenge institutions.  This can lead to progress or chaos or both. That's the point. Freedom is empowering but unpredictable. And in the end, freedom wins.\n",
      "1357094932058673154 2021-02-03 16:33:40 -0500 <michaelbatnick> And there it is, The Big Long   This Hedge Fund Made $700 Million on GameStop   https://t.co/ixhquxzFW5  https://t.co/IpTW61al0D\n",
      "1357053992187154435 2021-02-03 13:50:59 -0500 <Slasher> Bloomberg is reporting the SEC is combing through social media and message boards for signs of fraud around Gamestop. so instead of going after hedge funds and investment banks on wall street the SEC goes after SimpLord69 on reddit. that's America baby\n",
      "1357034697788821505 2021-02-03 12:34:19 -0500 <Cokedupoptions> Jordan Belfort, Mia Khalifa, and Ja Rule told me to buy GameStop at $450, and now I'm broke.  I don't know where I went wrong!\n",
      "1357004043332292612 2021-02-03 10:32:30 -0500 <ksorbs> But when the average citizen buys GameStop stock it’s a crime  https://t.co/Vnpoi6slJT\n",
      "1356799232322191361 2021-02-02 20:58:39 -0500 <zerohedge> U.S. TREASURY SECRETARY YELLEN TO CALL MEETING OF SEC, FED, NEW YORK FED AND CFTC THIS WEEK TO DISCUSS GAMESTOP-RELATED MARKET VOLATILITY: RTRS  She will of course recuse herself because Citadel is involved, right?\n",
      "1356797210986500099 2021-02-02 20:50:37 -0500 <zerohedge> Reddit Trader DeepFuckingValue Loses $19 Million In Two Days As He Holds On To Gamestop Stock  https://t.co/mlGvi39qKj\n",
      "1356794999866871808 2021-02-02 20:41:50 -0500 <tedcruz> Blue horseshoe loves GameStop.\n",
      "1356754539173543940 2021-02-02 18:01:04 -0500 <IGN> 20-year-old college student Hunter Kahn donated six Switch Lites and several games to Children's Minnesota Hospital in Minneapolis after he made nearly $30,000 off of last week's GameStop stock surge.  https://t.co/ovYFmxb3gK\n",
      "1356742673550475265 2021-02-02 17:13:55 -0500 <joshdcaplan> FOX NEWS: Sen. Josh Hawley calls for probe of potential collusion in GameStop saga\n",
      "1356728243160829954 2021-02-02 16:16:34 -0500 <zakiavelli_v2> “While GameStop experienced a stock crash, it was Ralph Hassenhuttl’s Southampton who experienced an even bigger crash at Old Trafford...”  https://t.co/mWI25iZ1Td\n",
      "1356727487355625473 2021-02-02 16:13:34 -0500 <Complex> 20-year-old Hunter Kahn made nearly $30K off GameStop stocks.  This week, he used the money to donate new consoles, games, and gift cards to a Children’s Hospital in Minneapolis. ❤️  Story:  https://t.co/W4qNtlF6BA  https://t.co/FDtTS6Fujz\n",
      "1356725159604838401 2021-02-02 16:04:19 -0500 <BRGaming> He used money he made from GameStop stocks to donate Nintendo Switches and games to Children’s Minnesota hospital 🙏  (via hkahn3/IG)  https://t.co/3Fa7mbaFyW\n",
      "1356714356562608131 2021-02-02 15:21:23 -0500 <ParikPatelCFA> Jeff Bezos retiring as CEO of Amazon after making a fortune buying Gamestop\n",
      "[+] Finished: Successfully collected 100 Tweets.\n"
     ]
    }
   ],
   "source": [
    "twint.run.Search(c)"
   ]
  },
  {
   "cell_type": "code",
   "execution_count": 5,
   "metadata": {},
   "outputs": [],
   "source": [
    "tweets = pd.read_csv('Gamestop.csv')"
   ]
  },
  {
   "cell_type": "code",
   "execution_count": 6,
   "metadata": {
    "scrolled": true
   },
   "outputs": [
    {
     "data": {
      "text/html": [
       "<div>\n",
       "<style scoped>\n",
       "    .dataframe tbody tr th:only-of-type {\n",
       "        vertical-align: middle;\n",
       "    }\n",
       "\n",
       "    .dataframe tbody tr th {\n",
       "        vertical-align: top;\n",
       "    }\n",
       "\n",
       "    .dataframe thead th {\n",
       "        text-align: right;\n",
       "    }\n",
       "</style>\n",
       "<table border=\"1\" class=\"dataframe\">\n",
       "  <thead>\n",
       "    <tr style=\"text-align: right;\">\n",
       "      <th></th>\n",
       "      <th>id</th>\n",
       "      <th>conversation_id</th>\n",
       "      <th>created_at</th>\n",
       "      <th>date</th>\n",
       "      <th>time</th>\n",
       "      <th>timezone</th>\n",
       "      <th>user_id</th>\n",
       "      <th>username</th>\n",
       "      <th>name</th>\n",
       "      <th>place</th>\n",
       "      <th>...</th>\n",
       "      <th>geo</th>\n",
       "      <th>source</th>\n",
       "      <th>user_rt_id</th>\n",
       "      <th>user_rt</th>\n",
       "      <th>retweet_id</th>\n",
       "      <th>reply_to</th>\n",
       "      <th>retweet_date</th>\n",
       "      <th>translate</th>\n",
       "      <th>trans_src</th>\n",
       "      <th>trans_dest</th>\n",
       "    </tr>\n",
       "  </thead>\n",
       "  <tbody>\n",
       "    <tr>\n",
       "      <td>0</td>\n",
       "      <td>1373360585249726465</td>\n",
       "      <td>1373360585249726465</td>\n",
       "      <td>2021-03-20 14:47:33 Central Daylight Time</td>\n",
       "      <td>2021-03-20</td>\n",
       "      <td>14:47:33</td>\n",
       "      <td>-500</td>\n",
       "      <td>715990372556660736</td>\n",
       "      <td>rapallstars</td>\n",
       "      <td>Rap All-Stars 🏆</td>\n",
       "      <td>NaN</td>\n",
       "      <td>...</td>\n",
       "      <td>NaN</td>\n",
       "      <td>NaN</td>\n",
       "      <td>NaN</td>\n",
       "      <td>NaN</td>\n",
       "      <td>NaN</td>\n",
       "      <td>[]</td>\n",
       "      <td>NaN</td>\n",
       "      <td>NaN</td>\n",
       "      <td>NaN</td>\n",
       "      <td>NaN</td>\n",
       "    </tr>\n",
       "    <tr>\n",
       "      <td>1</td>\n",
       "      <td>1372432089895813120</td>\n",
       "      <td>1372432089895813120</td>\n",
       "      <td>2021-03-18 01:18:03 Central Daylight Time</td>\n",
       "      <td>2021-03-18</td>\n",
       "      <td>01:18:03</td>\n",
       "      <td>-500</td>\n",
       "      <td>2439848450</td>\n",
       "      <td>matttgfx</td>\n",
       "      <td>Mattthew Graphics 🦆</td>\n",
       "      <td>NaN</td>\n",
       "      <td>...</td>\n",
       "      <td>NaN</td>\n",
       "      <td>NaN</td>\n",
       "      <td>NaN</td>\n",
       "      <td>NaN</td>\n",
       "      <td>NaN</td>\n",
       "      <td>[]</td>\n",
       "      <td>NaN</td>\n",
       "      <td>NaN</td>\n",
       "      <td>NaN</td>\n",
       "      <td>NaN</td>\n",
       "    </tr>\n",
       "    <tr>\n",
       "      <td>2</td>\n",
       "      <td>1370906368274731008</td>\n",
       "      <td>1370906368274731008</td>\n",
       "      <td>2021-03-13 19:15:23 Central Standard Time</td>\n",
       "      <td>2021-03-13</td>\n",
       "      <td>19:15:23</td>\n",
       "      <td>-500</td>\n",
       "      <td>26624619</td>\n",
       "      <td>casualhoya</td>\n",
       "      <td>Casual Hoya</td>\n",
       "      <td>NaN</td>\n",
       "      <td>...</td>\n",
       "      <td>NaN</td>\n",
       "      <td>NaN</td>\n",
       "      <td>NaN</td>\n",
       "      <td>NaN</td>\n",
       "      <td>NaN</td>\n",
       "      <td>[]</td>\n",
       "      <td>NaN</td>\n",
       "      <td>NaN</td>\n",
       "      <td>NaN</td>\n",
       "      <td>NaN</td>\n",
       "    </tr>\n",
       "    <tr>\n",
       "      <td>3</td>\n",
       "      <td>1370419906844504064</td>\n",
       "      <td>1370419906844504064</td>\n",
       "      <td>2021-03-12 11:02:21 Central Standard Time</td>\n",
       "      <td>2021-03-12</td>\n",
       "      <td>11:02:21</td>\n",
       "      <td>-500</td>\n",
       "      <td>868578294916145152</td>\n",
       "      <td>wsbchairman</td>\n",
       "      <td>The Chairman</td>\n",
       "      <td>NaN</td>\n",
       "      <td>...</td>\n",
       "      <td>NaN</td>\n",
       "      <td>NaN</td>\n",
       "      <td>NaN</td>\n",
       "      <td>NaN</td>\n",
       "      <td>NaN</td>\n",
       "      <td>[]</td>\n",
       "      <td>NaN</td>\n",
       "      <td>NaN</td>\n",
       "      <td>NaN</td>\n",
       "      <td>NaN</td>\n",
       "    </tr>\n",
       "    <tr>\n",
       "      <td>4</td>\n",
       "      <td>1370208698707103747</td>\n",
       "      <td>1370208698707103747</td>\n",
       "      <td>2021-03-11 21:03:05 Central Standard Time</td>\n",
       "      <td>2021-03-11</td>\n",
       "      <td>21:03:05</td>\n",
       "      <td>-500</td>\n",
       "      <td>1378000488</td>\n",
       "      <td>originalfunko</td>\n",
       "      <td>Funko</td>\n",
       "      <td>NaN</td>\n",
       "      <td>...</td>\n",
       "      <td>NaN</td>\n",
       "      <td>NaN</td>\n",
       "      <td>NaN</td>\n",
       "      <td>NaN</td>\n",
       "      <td>NaN</td>\n",
       "      <td>[]</td>\n",
       "      <td>NaN</td>\n",
       "      <td>NaN</td>\n",
       "      <td>NaN</td>\n",
       "      <td>NaN</td>\n",
       "    </tr>\n",
       "  </tbody>\n",
       "</table>\n",
       "<p>5 rows × 36 columns</p>\n",
       "</div>"
      ],
      "text/plain": [
       "                    id      conversation_id  \\\n",
       "0  1373360585249726465  1373360585249726465   \n",
       "1  1372432089895813120  1372432089895813120   \n",
       "2  1370906368274731008  1370906368274731008   \n",
       "3  1370419906844504064  1370419906844504064   \n",
       "4  1370208698707103747  1370208698707103747   \n",
       "\n",
       "                                  created_at        date      time  timezone  \\\n",
       "0  2021-03-20 14:47:33 Central Daylight Time  2021-03-20  14:47:33      -500   \n",
       "1  2021-03-18 01:18:03 Central Daylight Time  2021-03-18  01:18:03      -500   \n",
       "2  2021-03-13 19:15:23 Central Standard Time  2021-03-13  19:15:23      -500   \n",
       "3  2021-03-12 11:02:21 Central Standard Time  2021-03-12  11:02:21      -500   \n",
       "4  2021-03-11 21:03:05 Central Standard Time  2021-03-11  21:03:05      -500   \n",
       "\n",
       "              user_id       username                 name  place  ... geo  \\\n",
       "0  715990372556660736    rapallstars      Rap All-Stars 🏆    NaN  ... NaN   \n",
       "1          2439848450       matttgfx  Mattthew Graphics 🦆    NaN  ... NaN   \n",
       "2            26624619     casualhoya          Casual Hoya    NaN  ... NaN   \n",
       "3  868578294916145152    wsbchairman         The Chairman    NaN  ... NaN   \n",
       "4          1378000488  originalfunko                Funko    NaN  ... NaN   \n",
       "\n",
       "  source user_rt_id user_rt retweet_id  reply_to  retweet_date  translate  \\\n",
       "0    NaN        NaN     NaN        NaN        []           NaN        NaN   \n",
       "1    NaN        NaN     NaN        NaN        []           NaN        NaN   \n",
       "2    NaN        NaN     NaN        NaN        []           NaN        NaN   \n",
       "3    NaN        NaN     NaN        NaN        []           NaN        NaN   \n",
       "4    NaN        NaN     NaN        NaN        []           NaN        NaN   \n",
       "\n",
       "  trans_src trans_dest  \n",
       "0       NaN        NaN  \n",
       "1       NaN        NaN  \n",
       "2       NaN        NaN  \n",
       "3       NaN        NaN  \n",
       "4       NaN        NaN  \n",
       "\n",
       "[5 rows x 36 columns]"
      ]
     },
     "execution_count": 6,
     "metadata": {},
     "output_type": "execute_result"
    }
   ],
   "source": [
    "tweets.head()"
   ]
  },
  {
   "cell_type": "code",
   "execution_count": 7,
   "metadata": {
    "scrolled": true
   },
   "outputs": [
    {
     "name": "stdout",
     "output_type": "stream",
     "text": [
      "                    id      conversation_id  \\\n",
      "0  1373360585249726465  1373360585249726465   \n",
      "\n",
      "                                  created_at        date      time  timezone  \\\n",
      "0  2021-03-20 14:47:33 Central Daylight Time  2021-03-20  14:47:33      -500   \n",
      "\n",
      "              user_id     username             name  place  ... geo source  \\\n",
      "0  715990372556660736  rapallstars  Rap All-Stars 🏆    NaN  ... NaN    NaN   \n",
      "\n",
      "  user_rt_id user_rt retweet_id  reply_to  retweet_date  translate trans_src  \\\n",
      "0        NaN     NaN        NaN        []           NaN        NaN       NaN   \n",
      "\n",
      "  trans_dest  \n",
      "0        NaN  \n",
      "\n",
      "[1 rows x 36 columns]\n"
     ]
    }
   ],
   "source": [
    "print(tweets.head(1))"
   ]
  },
  {
   "cell_type": "code",
   "execution_count": 8,
   "metadata": {},
   "outputs": [
    {
     "name": "stdout",
     "output_type": "stream",
     "text": [
      "<class 'pandas.core.frame.DataFrame'>\n",
      "RangeIndex: 900 entries, 0 to 899\n",
      "Data columns (total 36 columns):\n",
      "id                 900 non-null int64\n",
      "conversation_id    900 non-null int64\n",
      "created_at         900 non-null object\n",
      "date               900 non-null object\n",
      "time               900 non-null object\n",
      "timezone           900 non-null int64\n",
      "user_id            900 non-null int64\n",
      "username           900 non-null object\n",
      "name               900 non-null object\n",
      "place              0 non-null float64\n",
      "tweet              900 non-null object\n",
      "language           900 non-null object\n",
      "mentions           900 non-null object\n",
      "urls               900 non-null object\n",
      "photos             900 non-null object\n",
      "replies_count      900 non-null int64\n",
      "retweets_count     900 non-null int64\n",
      "likes_count        900 non-null int64\n",
      "hashtags           900 non-null object\n",
      "cashtags           900 non-null object\n",
      "link               900 non-null object\n",
      "retweet            900 non-null bool\n",
      "quote_url          0 non-null float64\n",
      "video              900 non-null int64\n",
      "thumbnail          371 non-null object\n",
      "near               0 non-null float64\n",
      "geo                0 non-null float64\n",
      "source             0 non-null float64\n",
      "user_rt_id         0 non-null float64\n",
      "user_rt            0 non-null float64\n",
      "retweet_id         0 non-null float64\n",
      "reply_to           900 non-null object\n",
      "retweet_date       0 non-null float64\n",
      "translate          0 non-null float64\n",
      "trans_src          0 non-null float64\n",
      "trans_dest         0 non-null float64\n",
      "dtypes: bool(1), float64(12), int64(8), object(15)\n",
      "memory usage: 247.1+ KB\n"
     ]
    }
   ],
   "source": [
    "tweets.info()"
   ]
  },
  {
   "cell_type": "code",
   "execution_count": 9,
   "metadata": {},
   "outputs": [],
   "source": [
    "posts = pd.concat([tweets['date'], tweets['tweet']], axis=1)"
   ]
  },
  {
   "cell_type": "code",
   "execution_count": 10,
   "metadata": {},
   "outputs": [
    {
     "data": {
      "text/html": [
       "<div>\n",
       "<style scoped>\n",
       "    .dataframe tbody tr th:only-of-type {\n",
       "        vertical-align: middle;\n",
       "    }\n",
       "\n",
       "    .dataframe tbody tr th {\n",
       "        vertical-align: top;\n",
       "    }\n",
       "\n",
       "    .dataframe thead th {\n",
       "        text-align: right;\n",
       "    }\n",
       "</style>\n",
       "<table border=\"1\" class=\"dataframe\">\n",
       "  <thead>\n",
       "    <tr style=\"text-align: right;\">\n",
       "      <th></th>\n",
       "      <th>date</th>\n",
       "      <th>tweet</th>\n",
       "    </tr>\n",
       "  </thead>\n",
       "  <tbody>\n",
       "    <tr>\n",
       "      <td>0</td>\n",
       "      <td>2021-03-20</td>\n",
       "      <td>NBA YoungBoy showing love to a fan at GameStop...</td>\n",
       "    </tr>\n",
       "    <tr>\n",
       "      <td>1</td>\n",
       "      <td>2021-03-18</td>\n",
       "      <td>stimulus: $1400  nintendo fans at gamestop: on...</td>\n",
       "    </tr>\n",
       "    <tr>\n",
       "      <td>2</td>\n",
       "      <td>2021-03-13</td>\n",
       "      <td>GEORGETOWN IS THE GAMESTOP OF COLLEGE BASKETBALL.</td>\n",
       "    </tr>\n",
       "    <tr>\n",
       "      <td>3</td>\n",
       "      <td>2021-03-12</td>\n",
       "      <td>Forget the dollar. GameStop in-store credits a...</td>\n",
       "    </tr>\n",
       "    <tr>\n",
       "      <td>4</td>\n",
       "      <td>2021-03-11</td>\n",
       "      <td>RT &amp;amp; follow @OriginalFunko for the chance ...</td>\n",
       "    </tr>\n",
       "    <tr>\n",
       "      <td>...</td>\n",
       "      <td>...</td>\n",
       "      <td>...</td>\n",
       "    </tr>\n",
       "    <tr>\n",
       "      <td>895</td>\n",
       "      <td>2021-02-02</td>\n",
       "      <td>“While GameStop experienced a stock crash, it ...</td>\n",
       "    </tr>\n",
       "    <tr>\n",
       "      <td>896</td>\n",
       "      <td>2021-02-02</td>\n",
       "      <td>20-year-old Hunter Kahn made nearly $30K off G...</td>\n",
       "    </tr>\n",
       "    <tr>\n",
       "      <td>897</td>\n",
       "      <td>2021-02-02</td>\n",
       "      <td>He used money he made from GameStop stocks to ...</td>\n",
       "    </tr>\n",
       "    <tr>\n",
       "      <td>898</td>\n",
       "      <td>2021-02-02</td>\n",
       "      <td>The SEC is a joke. #Tesla #GameStop #StockMark...</td>\n",
       "    </tr>\n",
       "    <tr>\n",
       "      <td>899</td>\n",
       "      <td>2021-02-02</td>\n",
       "      <td>I have questions for @RobinhoodApp on why they...</td>\n",
       "    </tr>\n",
       "  </tbody>\n",
       "</table>\n",
       "<p>900 rows × 2 columns</p>\n",
       "</div>"
      ],
      "text/plain": [
       "           date                                              tweet\n",
       "0    2021-03-20  NBA YoungBoy showing love to a fan at GameStop...\n",
       "1    2021-03-18  stimulus: $1400  nintendo fans at gamestop: on...\n",
       "2    2021-03-13  GEORGETOWN IS THE GAMESTOP OF COLLEGE BASKETBALL.\n",
       "3    2021-03-12  Forget the dollar. GameStop in-store credits a...\n",
       "4    2021-03-11  RT &amp; follow @OriginalFunko for the chance ...\n",
       "..          ...                                                ...\n",
       "895  2021-02-02  “While GameStop experienced a stock crash, it ...\n",
       "896  2021-02-02  20-year-old Hunter Kahn made nearly $30K off G...\n",
       "897  2021-02-02  He used money he made from GameStop stocks to ...\n",
       "898  2021-02-02  The SEC is a joke. #Tesla #GameStop #StockMark...\n",
       "899  2021-02-02  I have questions for @RobinhoodApp on why they...\n",
       "\n",
       "[900 rows x 2 columns]"
      ]
     },
     "execution_count": 10,
     "metadata": {},
     "output_type": "execute_result"
    }
   ],
   "source": [
    "posts"
   ]
  },
  {
   "cell_type": "code",
   "execution_count": 11,
   "metadata": {},
   "outputs": [],
   "source": [
    "import spacy\n",
    "from tqdm import tqdm\n",
    "\n",
    "tqdm.pandas()"
   ]
  },
  {
   "cell_type": "code",
   "execution_count": 12,
   "metadata": {},
   "outputs": [],
   "source": [
    "nlp = spacy.load('en_core_web_sm')"
   ]
  },
  {
   "cell_type": "code",
   "execution_count": 13,
   "metadata": {},
   "outputs": [
    {
     "data": {
      "text/plain": [
       "['tok2vec',\n",
       " 'tagger',\n",
       " 'parser',\n",
       " 'senter',\n",
       " 'ner',\n",
       " 'attribute_ruler',\n",
       " 'lemmatizer']"
      ]
     },
     "execution_count": 13,
     "metadata": {},
     "output_type": "execute_result"
    }
   ],
   "source": [
    "nlp.component_names"
   ]
  },
  {
   "cell_type": "code",
   "execution_count": 14,
   "metadata": {},
   "outputs": [],
   "source": [
    "from spacytextblob.spacytextblob import SpacyTextBlob"
   ]
  },
  {
   "cell_type": "code",
   "execution_count": 15,
   "metadata": {},
   "outputs": [
    {
     "data": {
      "text/plain": [
       "<spacytextblob.spacytextblob.SpacyTextBlob at 0x13cd5b2eda0>"
      ]
     },
     "execution_count": 15,
     "metadata": {},
     "output_type": "execute_result"
    }
   ],
   "source": [
    "nlp.add_pipe('spacytextblob')"
   ]
  },
  {
   "cell_type": "code",
   "execution_count": 16,
   "metadata": {},
   "outputs": [
    {
     "data": {
      "text/plain": [
       "['tok2vec',\n",
       " 'tagger',\n",
       " 'parser',\n",
       " 'senter',\n",
       " 'ner',\n",
       " 'attribute_ruler',\n",
       " 'lemmatizer',\n",
       " 'spacytextblob']"
      ]
     },
     "execution_count": 16,
     "metadata": {},
     "output_type": "execute_result"
    }
   ],
   "source": [
    "nlp.component_names"
   ]
  },
  {
   "cell_type": "code",
   "execution_count": 17,
   "metadata": {},
   "outputs": [
    {
     "name": "stderr",
     "output_type": "stream",
     "text": [
      "100%|██████████| 900/900 [00:07<00:00, 123.76it/s]\n"
     ]
    }
   ],
   "source": [
    "posts['spacy'] = posts.tweet.progress_apply(lambda x: nlp(x))"
   ]
  },
  {
   "cell_type": "code",
   "execution_count": 18,
   "metadata": {},
   "outputs": [
    {
     "data": {
      "text/html": [
       "<div>\n",
       "<style scoped>\n",
       "    .dataframe tbody tr th:only-of-type {\n",
       "        vertical-align: middle;\n",
       "    }\n",
       "\n",
       "    .dataframe tbody tr th {\n",
       "        vertical-align: top;\n",
       "    }\n",
       "\n",
       "    .dataframe thead th {\n",
       "        text-align: right;\n",
       "    }\n",
       "</style>\n",
       "<table border=\"1\" class=\"dataframe\">\n",
       "  <thead>\n",
       "    <tr style=\"text-align: right;\">\n",
       "      <th></th>\n",
       "      <th>date</th>\n",
       "      <th>tweet</th>\n",
       "      <th>spacy</th>\n",
       "    </tr>\n",
       "  </thead>\n",
       "  <tbody>\n",
       "    <tr>\n",
       "      <td>0</td>\n",
       "      <td>2021-03-20</td>\n",
       "      <td>NBA YoungBoy showing love to a fan at GameStop...</td>\n",
       "      <td>(NBA, YoungBoy, showing, love, to, a, fan, at,...</td>\n",
       "    </tr>\n",
       "    <tr>\n",
       "      <td>1</td>\n",
       "      <td>2021-03-18</td>\n",
       "      <td>stimulus: $1400  nintendo fans at gamestop: on...</td>\n",
       "      <td>(stimulus, :, $, 1400,  , nintendo, fans, at, ...</td>\n",
       "    </tr>\n",
       "    <tr>\n",
       "      <td>2</td>\n",
       "      <td>2021-03-13</td>\n",
       "      <td>GEORGETOWN IS THE GAMESTOP OF COLLEGE BASKETBALL.</td>\n",
       "      <td>(GEORGETOWN, IS, THE, GAMESTOP, OF, COLLEGE, B...</td>\n",
       "    </tr>\n",
       "    <tr>\n",
       "      <td>3</td>\n",
       "      <td>2021-03-12</td>\n",
       "      <td>Forget the dollar. GameStop in-store credits a...</td>\n",
       "      <td>(Forget, the, dollar, ., GameStop, in, -, stor...</td>\n",
       "    </tr>\n",
       "    <tr>\n",
       "      <td>4</td>\n",
       "      <td>2021-03-11</td>\n",
       "      <td>RT &amp;amp; follow @OriginalFunko for the chance ...</td>\n",
       "      <td>(RT, &amp;, amp, ;, follow, @OriginalFunko, for, t...</td>\n",
       "    </tr>\n",
       "    <tr>\n",
       "      <td>...</td>\n",
       "      <td>...</td>\n",
       "      <td>...</td>\n",
       "      <td>...</td>\n",
       "    </tr>\n",
       "    <tr>\n",
       "      <td>895</td>\n",
       "      <td>2021-02-02</td>\n",
       "      <td>“While GameStop experienced a stock crash, it ...</td>\n",
       "      <td>(“, While, GameStop, experienced, a, stock, cr...</td>\n",
       "    </tr>\n",
       "    <tr>\n",
       "      <td>896</td>\n",
       "      <td>2021-02-02</td>\n",
       "      <td>20-year-old Hunter Kahn made nearly $30K off G...</td>\n",
       "      <td>(20, -, year, -, old, Hunter, Kahn, made, near...</td>\n",
       "    </tr>\n",
       "    <tr>\n",
       "      <td>897</td>\n",
       "      <td>2021-02-02</td>\n",
       "      <td>He used money he made from GameStop stocks to ...</td>\n",
       "      <td>(He, used, money, he, made, from, GameStop, st...</td>\n",
       "    </tr>\n",
       "    <tr>\n",
       "      <td>898</td>\n",
       "      <td>2021-02-02</td>\n",
       "      <td>The SEC is a joke. #Tesla #GameStop #StockMark...</td>\n",
       "      <td>(The, SEC, is, a, joke, ., #, Tesla, #, GameSt...</td>\n",
       "    </tr>\n",
       "    <tr>\n",
       "      <td>899</td>\n",
       "      <td>2021-02-02</td>\n",
       "      <td>I have questions for @RobinhoodApp on why they...</td>\n",
       "      <td>(I, have, questions, for, @RobinhoodApp, on, w...</td>\n",
       "    </tr>\n",
       "  </tbody>\n",
       "</table>\n",
       "<p>900 rows × 3 columns</p>\n",
       "</div>"
      ],
      "text/plain": [
       "           date                                              tweet  \\\n",
       "0    2021-03-20  NBA YoungBoy showing love to a fan at GameStop...   \n",
       "1    2021-03-18  stimulus: $1400  nintendo fans at gamestop: on...   \n",
       "2    2021-03-13  GEORGETOWN IS THE GAMESTOP OF COLLEGE BASKETBALL.   \n",
       "3    2021-03-12  Forget the dollar. GameStop in-store credits a...   \n",
       "4    2021-03-11  RT &amp; follow @OriginalFunko for the chance ...   \n",
       "..          ...                                                ...   \n",
       "895  2021-02-02  “While GameStop experienced a stock crash, it ...   \n",
       "896  2021-02-02  20-year-old Hunter Kahn made nearly $30K off G...   \n",
       "897  2021-02-02  He used money he made from GameStop stocks to ...   \n",
       "898  2021-02-02  The SEC is a joke. #Tesla #GameStop #StockMark...   \n",
       "899  2021-02-02  I have questions for @RobinhoodApp on why they...   \n",
       "\n",
       "                                                 spacy  \n",
       "0    (NBA, YoungBoy, showing, love, to, a, fan, at,...  \n",
       "1    (stimulus, :, $, 1400,  , nintendo, fans, at, ...  \n",
       "2    (GEORGETOWN, IS, THE, GAMESTOP, OF, COLLEGE, B...  \n",
       "3    (Forget, the, dollar, ., GameStop, in, -, stor...  \n",
       "4    (RT, &, amp, ;, follow, @OriginalFunko, for, t...  \n",
       "..                                                 ...  \n",
       "895  (“, While, GameStop, experienced, a, stock, cr...  \n",
       "896  (20, -, year, -, old, Hunter, Kahn, made, near...  \n",
       "897  (He, used, money, he, made, from, GameStop, st...  \n",
       "898  (The, SEC, is, a, joke, ., #, Tesla, #, GameSt...  \n",
       "899  (I, have, questions, for, @RobinhoodApp, on, w...  \n",
       "\n",
       "[900 rows x 3 columns]"
      ]
     },
     "execution_count": 18,
     "metadata": {},
     "output_type": "execute_result"
    }
   ],
   "source": [
    "posts"
   ]
  },
  {
   "cell_type": "code",
   "execution_count": 19,
   "metadata": {},
   "outputs": [],
   "source": [
    "first_post = posts.spacy[0]"
   ]
  },
  {
   "cell_type": "code",
   "execution_count": 20,
   "metadata": {},
   "outputs": [
    {
     "data": {
      "text/plain": [
       "array([ 2.0771265 ,  1.4985243 , -0.53748554,  0.19028932,  0.20449412,\n",
       "       -0.6132527 , -1.5849938 ,  0.92973554, -0.60089016, -0.99407816,\n",
       "       -0.27229148,  0.13499823,  0.29854324,  0.38864276, -0.8597209 ,\n",
       "        0.21974534, -0.22304392,  0.34057873,  1.4175909 , -0.14068893,\n",
       "       -1.1860273 ,  0.75029767, -0.7623585 , -0.25687796,  0.23616485,\n",
       "        0.15672067, -0.25928843, -0.39432728,  1.6464353 ,  0.8588412 ,\n",
       "        1.1180881 , -1.2670143 , -0.7189261 , -1.2277199 ,  0.6553587 ,\n",
       "       -0.23605458,  0.41883367,  0.6764573 , -0.60745084,  2.597686  ,\n",
       "       -1.133111  ,  0.21058753, -0.67308766,  1.1523774 , -0.82957625,\n",
       "       -0.83864844, -0.41519105,  0.5217116 ,  1.1383147 , -0.36185354,\n",
       "        0.58506715, -0.44563985, -0.65679365,  0.5478328 ,  0.5020057 ,\n",
       "        0.14222206, -0.15704174,  1.5554624 , -1.7502956 ,  0.8110057 ,\n",
       "       -0.30869642, -0.4831311 ,  0.5189719 , -0.66379285,  1.4603568 ,\n",
       "       -1.1513832 , -0.2570516 ,  0.32739735,  1.058141  ,  0.14640884,\n",
       "       -1.118951  ,  0.54793006,  0.34017062, -0.75527006, -0.20978189,\n",
       "        1.5910747 ,  1.4488838 , -0.4066797 , -1.2325188 ,  0.07160351,\n",
       "        0.5098971 ,  1.0360391 , -0.41182077,  0.6593786 ,  0.672965  ,\n",
       "       -0.09428136, -1.78444   , -0.29879737, -1.1874411 , -1.0894947 ,\n",
       "       -1.7519739 , -0.68979937, -0.49289814, -1.270557  ,  0.18857637,\n",
       "       -0.5056244 ], dtype=float32)"
      ]
     },
     "execution_count": 20,
     "metadata": {},
     "output_type": "execute_result"
    }
   ],
   "source": [
    "first_post[0].vector"
   ]
  },
  {
   "cell_type": "code",
   "execution_count": 21,
   "metadata": {},
   "outputs": [
    {
     "data": {
      "text/plain": [
       "['PROPN',\n",
       " 'PROPN',\n",
       " 'VERB',\n",
       " 'NOUN',\n",
       " 'ADP',\n",
       " 'DET',\n",
       " 'NOUN',\n",
       " 'ADP',\n",
       " 'PROPN',\n",
       " 'PUNCT',\n",
       " 'SPACE',\n",
       " 'X']"
      ]
     },
     "execution_count": 21,
     "metadata": {},
     "output_type": "execute_result"
    }
   ],
   "source": [
    "[w.pos_ for w in first_post]"
   ]
  },
  {
   "cell_type": "code",
   "execution_count": 22,
   "metadata": {},
   "outputs": [
    {
     "data": {
      "text/plain": [
       "0.5"
      ]
     },
     "execution_count": 22,
     "metadata": {},
     "output_type": "execute_result"
    }
   ],
   "source": [
    "first_post._.polarity"
   ]
  },
  {
   "cell_type": "code",
   "execution_count": 23,
   "metadata": {},
   "outputs": [
    {
     "data": {
      "text/plain": [
       "0.6"
      ]
     },
     "execution_count": 23,
     "metadata": {},
     "output_type": "execute_result"
    }
   ],
   "source": [
    "first_post._.subjectivity"
   ]
  },
  {
   "cell_type": "code",
   "execution_count": 24,
   "metadata": {},
   "outputs": [
    {
     "data": {
      "text/plain": [
       "[(['love'], 0.5, 0.6, None)]"
      ]
     },
     "execution_count": 24,
     "metadata": {},
     "output_type": "execute_result"
    }
   ],
   "source": [
    "first_post._.assessments"
   ]
  },
  {
   "cell_type": "code",
   "execution_count": 34,
   "metadata": {},
   "outputs": [
    {
     "data": {
      "text/plain": [
       "array([ 9.30273950e-01,  1.43499270e-01, -1.57495156e-01, -2.59557933e-01,\n",
       "        1.44843966e-01, -4.47454453e-01, -2.19568491e-01,  7.53111020e-02,\n",
       "        1.36521116e-01, -4.14631605e-01,  3.38375792e-02, -9.21678022e-02,\n",
       "       -3.98391783e-02,  1.29478410e-01, -3.63178521e-01,  2.42145941e-01,\n",
       "        2.67986566e-01, -1.91512361e-01,  6.11456297e-02, -3.83839250e-01,\n",
       "       -3.40938956e-01,  2.92922556e-01, -4.44719911e-01,  3.33526582e-01,\n",
       "       -2.72495952e-02, -6.93888515e-02, -2.29530141e-01, -7.44185969e-02,\n",
       "        2.91829675e-01,  5.88438213e-02, -4.54192370e-01, -1.54883891e-01,\n",
       "       -2.53680170e-01, -6.38917208e-01,  5.43649495e-01,  4.22622375e-02,\n",
       "       -9.27978158e-02,  2.25806937e-01,  2.02753603e-01,  7.26366555e-03,\n",
       "       -2.27591202e-01,  3.11995268e-01, -1.06708996e-01,  3.42474699e-01,\n",
       "       -1.76458165e-01, -4.55975533e-04,  3.11332401e-02,  3.81045252e-01,\n",
       "        3.06165934e-01,  1.23066939e-01,  1.20870322e-02,  2.86430269e-01,\n",
       "       -5.26450276e-02,  2.43374467e-01,  3.57055098e-01, -4.18480754e-01,\n",
       "       -1.20226957e-01,  1.86878607e-01, -5.63359499e-01,  2.52441496e-01,\n",
       "        1.67844817e-01,  1.43874064e-01,  2.07163289e-01, -5.83495080e-01,\n",
       "       -1.64411649e-01,  1.31438747e-01, -1.73043728e-01,  2.55831927e-02,\n",
       "        1.68616399e-01,  3.62678081e-01, -2.88984831e-02,  1.32868141e-01,\n",
       "        4.22250718e-01, -4.80434269e-01, -3.77635330e-01,  4.99318063e-04,\n",
       "        5.42281456e-02, -6.29478514e-01, -1.29950300e-01,  4.89985973e-01,\n",
       "        5.71577072e-01,  3.19093376e-01,  1.78442836e-01,  5.28254688e-01,\n",
       "       -8.86596274e-03, -4.59323138e-01, -2.23244831e-01, -3.74939680e-01,\n",
       "       -3.57555270e-01,  1.19850375e-01, -3.08941126e-01,  4.00947481e-01,\n",
       "        2.32757807e-01, -2.65939623e-01,  6.01598024e-02,  8.63826498e-02],\n",
       "      dtype=float32)"
      ]
     },
     "execution_count": 34,
     "metadata": {},
     "output_type": "execute_result"
    }
   ],
   "source": []
  },
  {
   "cell_type": "code",
   "execution_count": null,
   "metadata": {},
   "outputs": [],
   "source": []
  }
 ],
 "metadata": {
  "kernelspec": {
   "display_name": "Python 3",
   "language": "python",
   "name": "python3"
  },
  "language_info": {
   "codemirror_mode": {
    "name": "ipython",
    "version": 3
   },
   "file_extension": ".py",
   "mimetype": "text/x-python",
   "name": "python",
   "nbconvert_exporter": "python",
   "pygments_lexer": "ipython3",
   "version": "3.6.9"
  }
 },
 "nbformat": 4,
 "nbformat_minor": 2
}
