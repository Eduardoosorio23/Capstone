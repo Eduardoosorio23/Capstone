{
 "cells": [
  {
   "cell_type": "code",
   "execution_count": 1,
   "metadata": {
    "colab": {
     "base_uri": "https://localhost:8080/",
     "height": 381
    },
    "id": "03lDV6k10OPk",
    "outputId": "45733583-b4b1-440a-c8d3-70db2edfb62b"
   },
   "outputs": [
    {
     "name": "stderr",
     "output_type": "stream",
     "text": [
      "Using TensorFlow backend.\n"
     ]
    }
   ],
   "source": [
    "#import Libraries\n",
    "import math\n",
    "import pandas_datareader as web\n",
    "import numpy as np\n",
    "import pandas as pd\n",
    "from sklearn.preprocessing import MinMaxScaler\n",
    "# from keras.models import Sequential\n",
    "# from keras.layers import Dense, LSTM\n",
    "from keras import regularizers\n",
    "from keras import layers\n",
    "from keras.callbacks import EarlyStopping, ModelCheckpoint\n",
    "from tensorflow.keras import backend\n",
    "import tensorflow as tf\n",
    "from tensorflow import keras\n",
    "from tensorflow.keras.models import Sequential\n",
    "from tensorflow.keras.layers import Dense, LSTM\n",
    "from tensorflow.keras.layers import Dropout\n",
    "import talos\n",
    "import matplotlib.pyplot as plt\n",
    "\n",
    "import praw\n",
    "from psaw import PushshiftAPI\n",
    "import config\n",
    "import pandas as pd\n",
    "\n",
    "import nltk\n",
    "from nltk.corpus import stopwords\n",
    "import string\n",
    "from  nltk import FreqDist\n",
    "from nltk.stem.wordnet import WordNetLemmatizer\n",
    "from nltk.collocations import *\n",
    "# nltk.download('wordnet')\n",
    "from nltk import word_tokenize, FreqDist\n",
    "\n",
    "from spacy import displacy\n",
    "import spacy\n",
    "from tqdm import tqdm\n",
    "\n",
    "tqdm.pandas()\n",
    "from spacytextblob.spacytextblob import SpacyTextBlob\n",
    "\n",
    "nlp = spacy.load('en_core_web_sm')\n",
    "nlp.add_pipe('spacytextblob')\n",
    "\n",
    "import plotly.graph_objects as go\n",
    "import plotly.express as px\n",
    "\n",
    "import twint\n",
    "import pandas as pd\n",
    "\n",
    "import nest_asyncio \n",
    "nest_asyncio.apply()\n",
    "\n",
    "from dateutil import rrule\n",
    "import datetime as datetime\n",
    "from datetime import timedelta\n",
    "from dateutil.relativedelta import relativedelta\n",
    "import time\n",
    "start_time = time.time()"
   ]
  },
  {
   "cell_type": "code",
   "execution_count": 2,
   "metadata": {},
   "outputs": [],
   "source": [
    "#Importing cleaned webscraped data from Reddit and twitter talking about TSLA stock(60 months)\n",
    "df = pd.read_csv('cleaned_df.csv')"
   ]
  },
  {
   "cell_type": "code",
   "execution_count": 3,
   "metadata": {},
   "outputs": [],
   "source": [
    "df.set_index('Date', inplace=True)"
   ]
  },
  {
   "cell_type": "code",
   "execution_count": 4,
   "metadata": {
    "scrolled": true
   },
   "outputs": [],
   "source": [
    "df.drop('Unnamed: 0', axis = 1, inplace= True)"
   ]
  },
  {
   "cell_type": "code",
   "execution_count": 5,
   "metadata": {},
   "outputs": [
    {
     "data": {
      "text/html": [
       "<div>\n",
       "<style scoped>\n",
       "    .dataframe tbody tr th:only-of-type {\n",
       "        vertical-align: middle;\n",
       "    }\n",
       "\n",
       "    .dataframe tbody tr th {\n",
       "        vertical-align: top;\n",
       "    }\n",
       "\n",
       "    .dataframe thead th {\n",
       "        text-align: right;\n",
       "    }\n",
       "</style>\n",
       "<table border=\"1\" class=\"dataframe\">\n",
       "  <thead>\n",
       "    <tr style=\"text-align: right;\">\n",
       "      <th></th>\n",
       "      <th>High</th>\n",
       "      <th>Low</th>\n",
       "      <th>Open</th>\n",
       "      <th>Close</th>\n",
       "      <th>Volume</th>\n",
       "      <th>Adj Close</th>\n",
       "      <th>sentiment</th>\n",
       "      <th>subjectivity</th>\n",
       "      <th>Target</th>\n",
       "      <th>% Change</th>\n",
       "    </tr>\n",
       "    <tr>\n",
       "      <th>Date</th>\n",
       "      <th></th>\n",
       "      <th></th>\n",
       "      <th></th>\n",
       "      <th></th>\n",
       "      <th></th>\n",
       "      <th></th>\n",
       "      <th></th>\n",
       "      <th></th>\n",
       "      <th></th>\n",
       "      <th></th>\n",
       "    </tr>\n",
       "  </thead>\n",
       "  <tbody>\n",
       "    <tr>\n",
       "      <th>2015-06-11</th>\n",
       "      <td>28.809999</td>\n",
       "      <td>28.02</td>\n",
       "      <td>28.070000</td>\n",
       "      <td>28.570000</td>\n",
       "      <td>158300.0</td>\n",
       "      <td>21.339277</td>\n",
       "      <td>0.040858</td>\n",
       "      <td>0.24843</td>\n",
       "      <td>28.469999</td>\n",
       "      <td>1.240257</td>\n",
       "    </tr>\n",
       "    <tr>\n",
       "      <th>2015-06-12</th>\n",
       "      <td>28.549999</td>\n",
       "      <td>28.15</td>\n",
       "      <td>28.420000</td>\n",
       "      <td>28.469999</td>\n",
       "      <td>160800.0</td>\n",
       "      <td>21.264591</td>\n",
       "      <td>0.040858</td>\n",
       "      <td>0.24843</td>\n",
       "      <td>28.870001</td>\n",
       "      <td>-0.350019</td>\n",
       "    </tr>\n",
       "    <tr>\n",
       "      <th>2015-06-15</th>\n",
       "      <td>28.930000</td>\n",
       "      <td>27.90</td>\n",
       "      <td>28.219999</td>\n",
       "      <td>28.870001</td>\n",
       "      <td>445900.0</td>\n",
       "      <td>21.563354</td>\n",
       "      <td>0.040858</td>\n",
       "      <td>0.24843</td>\n",
       "      <td>28.469999</td>\n",
       "      <td>1.404993</td>\n",
       "    </tr>\n",
       "    <tr>\n",
       "      <th>2015-06-16</th>\n",
       "      <td>28.879999</td>\n",
       "      <td>28.42</td>\n",
       "      <td>28.850000</td>\n",
       "      <td>28.469999</td>\n",
       "      <td>230200.0</td>\n",
       "      <td>21.264591</td>\n",
       "      <td>0.040858</td>\n",
       "      <td>0.24843</td>\n",
       "      <td>28.010000</td>\n",
       "      <td>-1.385527</td>\n",
       "    </tr>\n",
       "    <tr>\n",
       "      <th>2015-06-17</th>\n",
       "      <td>28.799999</td>\n",
       "      <td>28.01</td>\n",
       "      <td>28.540001</td>\n",
       "      <td>28.010000</td>\n",
       "      <td>210500.0</td>\n",
       "      <td>20.921007</td>\n",
       "      <td>0.040858</td>\n",
       "      <td>0.24843</td>\n",
       "      <td>29.580000</td>\n",
       "      <td>-1.615733</td>\n",
       "    </tr>\n",
       "  </tbody>\n",
       "</table>\n",
       "</div>"
      ],
      "text/plain": [
       "                 High    Low       Open      Close    Volume  Adj Close  \\\n",
       "Date                                                                      \n",
       "2015-06-11  28.809999  28.02  28.070000  28.570000  158300.0  21.339277   \n",
       "2015-06-12  28.549999  28.15  28.420000  28.469999  160800.0  21.264591   \n",
       "2015-06-15  28.930000  27.90  28.219999  28.870001  445900.0  21.563354   \n",
       "2015-06-16  28.879999  28.42  28.850000  28.469999  230200.0  21.264591   \n",
       "2015-06-17  28.799999  28.01  28.540001  28.010000  210500.0  20.921007   \n",
       "\n",
       "            sentiment  subjectivity     Target  % Change  \n",
       "Date                                                      \n",
       "2015-06-11   0.040858       0.24843  28.469999  1.240257  \n",
       "2015-06-12   0.040858       0.24843  28.870001 -0.350019  \n",
       "2015-06-15   0.040858       0.24843  28.469999  1.404993  \n",
       "2015-06-16   0.040858       0.24843  28.010000 -1.385527  \n",
       "2015-06-17   0.040858       0.24843  29.580000 -1.615733  "
      ]
     },
     "execution_count": 5,
     "metadata": {},
     "output_type": "execute_result"
    }
   ],
   "source": [
    "df.head()"
   ]
  },
  {
   "cell_type": "markdown",
   "metadata": {},
   "source": [
    "## Train-Test"
   ]
  },
  {
   "cell_type": "code",
   "execution_count": 6,
   "metadata": {},
   "outputs": [],
   "source": [
    "X = df.filter(['Close', 'sentiment', 'subjectivity'])\n",
    "y = df['Target']\n",
    "\n",
    "\n",
    "training_data_len = math.ceil(len(X) * .8)\n",
    "\n",
    "X_train = X.iloc[:training_data_len]\n",
    "y_train = y.iloc[:training_data_len]\n",
    "X_test = X.iloc[training_data_len -10:]\n",
    "y_test = y.iloc[training_data_len:]\n"
   ]
  },
  {
   "cell_type": "code",
   "execution_count": 7,
   "metadata": {},
   "outputs": [
    {
     "name": "stdout",
     "output_type": "stream",
     "text": [
      "X_train: 1207\n",
      "y_train: 1207\n",
      "y_test: 301\n"
     ]
    }
   ],
   "source": [
    "print('X_train:', len(X_train))\n",
    "print('y_train:', len(y_train))\n",
    "print('y_test:', len(y_test))"
   ]
  },
  {
   "cell_type": "code",
   "execution_count": 8,
   "metadata": {},
   "outputs": [
    {
     "data": {
      "text/plain": [
       "1207"
      ]
     },
     "execution_count": 8,
     "metadata": {},
     "output_type": "execute_result"
    }
   ],
   "source": [
    "training_data_len"
   ]
  },
  {
   "cell_type": "code",
   "execution_count": 9,
   "metadata": {},
   "outputs": [
    {
     "data": {
      "text/plain": [
       "1207"
      ]
     },
     "execution_count": 9,
     "metadata": {},
     "output_type": "execute_result"
    }
   ],
   "source": [
    "len(X_train)"
   ]
  },
  {
   "cell_type": "code",
   "execution_count": 10,
   "metadata": {},
   "outputs": [
    {
     "data": {
      "text/plain": [
       "311"
      ]
     },
     "execution_count": 10,
     "metadata": {},
     "output_type": "execute_result"
    }
   ],
   "source": [
    "len(X_test)"
   ]
  },
  {
   "cell_type": "markdown",
   "metadata": {},
   "source": [
    "## Scaling Data:"
   ]
  },
  {
   "cell_type": "code",
   "execution_count": 11,
   "metadata": {},
   "outputs": [],
   "source": [
    "sx = MinMaxScaler(feature_range=(0,1))\n",
    "sy = MinMaxScaler(feature_range=(0,1))"
   ]
  },
  {
   "cell_type": "code",
   "execution_count": 12,
   "metadata": {},
   "outputs": [],
   "source": [
    "scaled_X_train = sx.fit_transform(X_train)\n",
    "scaled_X_test = sx.transform(X_test)\n",
    "scaled_y_train = sy.fit_transform(np.array(y_train).reshape(-1, 1))\n",
    "scaled_y_test = sy.transform(np.array(y_test).reshape(-1, 1))\n"
   ]
  },
  {
   "cell_type": "code",
   "execution_count": 13,
   "metadata": {},
   "outputs": [
    {
     "data": {
      "text/plain": [
       "(301, 1)"
      ]
     },
     "execution_count": 13,
     "metadata": {},
     "output_type": "execute_result"
    }
   ],
   "source": [
    "scaled_y_test.shape"
   ]
  },
  {
   "cell_type": "code",
   "execution_count": 14,
   "metadata": {},
   "outputs": [
    {
     "data": {
      "text/plain": [
       "(1207, 3)"
      ]
     },
     "execution_count": 14,
     "metadata": {},
     "output_type": "execute_result"
    }
   ],
   "source": [
    "scaled_X_train.shape"
   ]
  },
  {
   "cell_type": "markdown",
   "metadata": {},
   "source": [
    "## Train_set:"
   ]
  },
  {
   "cell_type": "code",
   "execution_count": 15,
   "metadata": {},
   "outputs": [],
   "source": [
    "# Each Timestep uses window to predict the next value\n",
    "window = 10\n",
    "X = []\n",
    "y = []\n",
    "\n",
    "for i in range(window, len(X_train)):\n",
    "    X.append(scaled_X_train[i-window:i,:])\n",
    "    y.append(scaled_y_train[i])\n"
   ]
  },
  {
   "cell_type": "code",
   "execution_count": 16,
   "metadata": {},
   "outputs": [],
   "source": [
    "X, y = np.array(X), np.array(y)"
   ]
  },
  {
   "cell_type": "code",
   "execution_count": 17,
   "metadata": {},
   "outputs": [
    {
     "data": {
      "text/plain": [
       "(1197, 1)"
      ]
     },
     "execution_count": 17,
     "metadata": {},
     "output_type": "execute_result"
    }
   ],
   "source": [
    "y.shape"
   ]
  },
  {
   "cell_type": "code",
   "execution_count": 18,
   "metadata": {},
   "outputs": [
    {
     "data": {
      "text/plain": [
       "(1197, 10, 3)"
      ]
     },
     "execution_count": 18,
     "metadata": {},
     "output_type": "execute_result"
    }
   ],
   "source": [
    "X.shape"
   ]
  },
  {
   "cell_type": "code",
   "execution_count": 19,
   "metadata": {},
   "outputs": [],
   "source": [
    "#LSTM expects the data to be 3 dimensional. in order of number of samples, number of timesteps, and number of features\n",
    "X = np.reshape(X, (X.shape[0], X.shape[1], 3))"
   ]
  },
  {
   "cell_type": "code",
   "execution_count": 20,
   "metadata": {},
   "outputs": [
    {
     "data": {
      "text/plain": [
       "(1197, 10, 3)"
      ]
     },
     "execution_count": 20,
     "metadata": {},
     "output_type": "execute_result"
    }
   ],
   "source": [
    "X.shape"
   ]
  },
  {
   "cell_type": "code",
   "execution_count": 21,
   "metadata": {},
   "outputs": [
    {
     "data": {
      "text/plain": [
       "1197"
      ]
     },
     "execution_count": 21,
     "metadata": {},
     "output_type": "execute_result"
    }
   ],
   "source": [
    "X.shape[0]"
   ]
  },
  {
   "cell_type": "code",
   "execution_count": 22,
   "metadata": {},
   "outputs": [
    {
     "data": {
      "text/plain": [
       "10"
      ]
     },
     "execution_count": 22,
     "metadata": {},
     "output_type": "execute_result"
    }
   ],
   "source": [
    "X.shape[1]"
   ]
  },
  {
   "cell_type": "code",
   "execution_count": 23,
   "metadata": {
    "scrolled": true
   },
   "outputs": [
    {
     "data": {
      "text/plain": [
       "3"
      ]
     },
     "execution_count": 23,
     "metadata": {},
     "output_type": "execute_result"
    }
   ],
   "source": [
    "X.shape[2]"
   ]
  },
  {
   "cell_type": "markdown",
   "metadata": {},
   "source": [
    "## Test_set:"
   ]
  },
  {
   "cell_type": "code",
   "execution_count": 24,
   "metadata": {},
   "outputs": [],
   "source": [
    "# Each Timestep uses window to predict the next value\n",
    "window = 10\n",
    "Xt = []\n",
    "yt = scaled_y_test\n",
    "\n",
    "for i in range(window, len(X_test)):\n",
    "    Xt.append(scaled_X_test[i-window:i,:])\n",
    "#     yt.append(scaled_y_test[i])\n"
   ]
  },
  {
   "cell_type": "code",
   "execution_count": 25,
   "metadata": {},
   "outputs": [],
   "source": [
    "Xt, yt = np.array(Xt), np.array(yt)"
   ]
  },
  {
   "cell_type": "code",
   "execution_count": 26,
   "metadata": {
    "colab": {
     "base_uri": "https://localhost:8080/"
    },
    "id": "Y8RSqeBO-qzR",
    "outputId": "364ba663-6fdf-4e41-cb4e-2839fa3d6469"
   },
   "outputs": [],
   "source": [
    "#Reshape the data\n",
    "#LSTM expects the data to be 3 dimensional. in order of number of samples, number of timesteps, and number of features"
   ]
  },
  {
   "cell_type": "code",
   "execution_count": 27,
   "metadata": {
    "scrolled": true
   },
   "outputs": [],
   "source": [
    "Xt = np.reshape(Xt, (Xt.shape[0], Xt.shape[1], 3))"
   ]
  },
  {
   "cell_type": "code",
   "execution_count": 28,
   "metadata": {},
   "outputs": [
    {
     "data": {
      "text/plain": [
       "(301, 10, 3)"
      ]
     },
     "execution_count": 28,
     "metadata": {},
     "output_type": "execute_result"
    }
   ],
   "source": [
    "Xt.shape"
   ]
  },
  {
   "cell_type": "markdown",
   "metadata": {},
   "source": [
    "## Base Model:"
   ]
  },
  {
   "cell_type": "code",
   "execution_count": 29,
   "metadata": {},
   "outputs": [],
   "source": [
    "model = Sequential()\n",
    "model.add(LSTM(50, return_sequences=True, input_shape= (X.shape[1], 3)))\n",
    "model.add(LSTM(50, return_sequences=False))\n",
    "model.add(Dense(25))\n",
    "model.add(Dense(1))"
   ]
  },
  {
   "cell_type": "code",
   "execution_count": 30,
   "metadata": {
    "id": "X1WkrK7m_05d",
    "scrolled": true
   },
   "outputs": [
    {
     "name": "stdout",
     "output_type": "stream",
     "text": [
      "Epoch 1/100\n",
      "1197/1197 [==============================] - 11s 6ms/step - loss: 0.0126 - mean_absolute_percentage_error: 17299.6916 - val_loss: 0.0177 - val_mean_absolute_percentage_error: 206.9440\n",
      "Epoch 2/100\n",
      "1197/1197 [==============================] - 6s 5ms/step - loss: 0.0019 - mean_absolute_percentage_error: 39909.9213 - val_loss: 0.0158 - val_mean_absolute_percentage_error: 108.2352\n",
      "Epoch 3/100\n",
      "1197/1197 [==============================] - 6s 5ms/step - loss: 0.0017 - mean_absolute_percentage_error: 48129.3292 - val_loss: 0.0139 - val_mean_absolute_percentage_error: 78.4409\n",
      "Epoch 4/100\n",
      "1197/1197 [==============================] - 7s 6ms/step - loss: 0.0012 - mean_absolute_percentage_error: 6745.5960 - val_loss: 0.0114 - val_mean_absolute_percentage_error: 106.5988\n",
      "Epoch 5/100\n",
      "1197/1197 [==============================] - 7s 6ms/step - loss: 0.0012 - mean_absolute_percentage_error: 94367.7254 - val_loss: 0.0098 - val_mean_absolute_percentage_error: 60.9779\n",
      "Epoch 6/100\n",
      "1197/1197 [==============================] - 7s 5ms/step - loss: 9.2956e-04 - mean_absolute_percentage_error: 14247.4452 - val_loss: 0.0085 - val_mean_absolute_percentage_error: 112.0868\n",
      "Epoch 7/100\n",
      "1197/1197 [==============================] - 7s 6ms/step - loss: 8.5113e-04 - mean_absolute_percentage_error: 17740.0253 - val_loss: 0.0109 - val_mean_absolute_percentage_error: 229.5375\n",
      "Epoch 8/100\n",
      "1197/1197 [==============================] - 7s 5ms/step - loss: 0.0011 - mean_absolute_percentage_error: 11024.3506 - val_loss: 0.0091 - val_mean_absolute_percentage_error: 111.9099\n",
      "Epoch 9/100\n",
      "1197/1197 [==============================] - 7s 6ms/step - loss: 9.7714e-04 - mean_absolute_percentage_error: 30001.0667 - val_loss: 0.0097 - val_mean_absolute_percentage_error: 86.6890\n",
      "Epoch 10/100\n",
      "1197/1197 [==============================] - 7s 6ms/step - loss: 7.6206e-04 - mean_absolute_percentage_error: 5314.6012 - val_loss: 0.0093 - val_mean_absolute_percentage_error: 122.1483\n",
      "Epoch 11/100\n",
      "1197/1197 [==============================] - 7s 6ms/step - loss: 8.6991e-04 - mean_absolute_percentage_error: 5017.3372 - val_loss: 0.0096 - val_mean_absolute_percentage_error: 155.7321\n",
      "Epoch 12/100\n",
      "1197/1197 [==============================] - 7s 6ms/step - loss: 9.9258e-04 - mean_absolute_percentage_error: 3301.8402 - val_loss: 0.0088 - val_mean_absolute_percentage_error: 77.0672\n",
      "Epoch 13/100\n",
      "1197/1197 [==============================] - 7s 6ms/step - loss: 8.8748e-04 - mean_absolute_percentage_error: 4783.0152 - val_loss: 0.0101 - val_mean_absolute_percentage_error: 169.3444\n",
      "Epoch 14/100\n",
      "1197/1197 [==============================] - 7s 6ms/step - loss: 8.3633e-04 - mean_absolute_percentage_error: 16135.7138 - val_loss: 0.0096 - val_mean_absolute_percentage_error: 151.0915\n",
      "Epoch 15/100\n",
      "1197/1197 [==============================] - 7s 6ms/step - loss: 8.8946e-04 - mean_absolute_percentage_error: 18734.9305 - val_loss: 0.0091 - val_mean_absolute_percentage_error: 72.2568\n",
      "Epoch 16/100\n",
      "1197/1197 [==============================] - 7s 6ms/step - loss: 7.7648e-04 - mean_absolute_percentage_error: 7400.0024 - val_loss: 0.0085 - val_mean_absolute_percentage_error: 106.6803\n",
      "Epoch 17/100\n",
      "1197/1197 [==============================] - 7s 6ms/step - loss: 8.4485e-04 - mean_absolute_percentage_error: 23891.7269 - val_loss: 0.0086 - val_mean_absolute_percentage_error: 57.4786\n",
      "Epoch 18/100\n",
      "1197/1197 [==============================] - 7s 6ms/step - loss: 7.9611e-04 - mean_absolute_percentage_error: 1241.8659 - val_loss: 0.0089 - val_mean_absolute_percentage_error: 82.4985\n",
      "Epoch 19/100\n",
      "1197/1197 [==============================] - 7s 6ms/step - loss: 7.3880e-04 - mean_absolute_percentage_error: 18384.4774 - val_loss: 0.0098 - val_mean_absolute_percentage_error: 269.3770\n",
      "Epoch 20/100\n",
      "1197/1197 [==============================] - 7s 6ms/step - loss: 6.5932e-04 - mean_absolute_percentage_error: 4512.7308 - val_loss: 0.0085 - val_mean_absolute_percentage_error: 125.6919\n",
      "Epoch 21/100\n",
      "1197/1197 [==============================] - 7s 6ms/step - loss: 6.4181e-04 - mean_absolute_percentage_error: 7260.6994 - val_loss: 0.0091 - val_mean_absolute_percentage_error: 213.3342\n",
      "Epoch 22/100\n",
      "1197/1197 [==============================] - 7s 6ms/step - loss: 7.2327e-04 - mean_absolute_percentage_error: 691.0426 - val_loss: 0.0087 - val_mean_absolute_percentage_error: 62.6452\n",
      "Epoch 23/100\n",
      "1197/1197 [==============================] - 7s 6ms/step - loss: 6.2959e-04 - mean_absolute_percentage_error: 11594.9113 - val_loss: 0.0082 - val_mean_absolute_percentage_error: 44.8263\n",
      "Epoch 24/100\n",
      "1197/1197 [==============================] - 7s 6ms/step - loss: 7.0567e-04 - mean_absolute_percentage_error: 289.3405 - val_loss: 0.0081 - val_mean_absolute_percentage_error: 52.2103\n",
      "Epoch 25/100\n",
      "1197/1197 [==============================] - 7s 6ms/step - loss: 7.8481e-04 - mean_absolute_percentage_error: 2663.1364 - val_loss: 0.0091 - val_mean_absolute_percentage_error: 100.6972\n",
      "Epoch 26/100\n",
      "1197/1197 [==============================] - 7s 6ms/step - loss: 6.7855e-04 - mean_absolute_percentage_error: 53389.2169 - val_loss: 0.0085 - val_mean_absolute_percentage_error: 90.9674\n",
      "Epoch 27/100\n",
      "1197/1197 [==============================] - 7s 6ms/step - loss: 7.6018e-04 - mean_absolute_percentage_error: 12852.2310 - val_loss: 0.0093 - val_mean_absolute_percentage_error: 85.0655\n",
      "Epoch 28/100\n",
      "1197/1197 [==============================] - 7s 6ms/step - loss: 6.8147e-04 - mean_absolute_percentage_error: 8971.3475 - val_loss: 0.0095 - val_mean_absolute_percentage_error: 97.3271\n",
      "Epoch 29/100\n",
      "1197/1197 [==============================] - 7s 6ms/step - loss: 7.1955e-04 - mean_absolute_percentage_error: 16828.3100 - val_loss: 0.0094 - val_mean_absolute_percentage_error: 70.2839\n",
      "Epoch 30/100\n",
      "1197/1197 [==============================] - 7s 6ms/step - loss: 6.4466e-04 - mean_absolute_percentage_error: 10955.6167 - val_loss: 0.0084 - val_mean_absolute_percentage_error: 51.0475\n",
      "Epoch 31/100\n",
      "1197/1197 [==============================] - 7s 6ms/step - loss: 6.4891e-04 - mean_absolute_percentage_error: 9076.2718 - val_loss: 0.0085 - val_mean_absolute_percentage_error: 54.1058\n",
      "Epoch 32/100\n",
      "1197/1197 [==============================] - 7s 6ms/step - loss: 7.0473e-04 - mean_absolute_percentage_error: 982.1844 - val_loss: 0.0090 - val_mean_absolute_percentage_error: 64.8465\n",
      "Epoch 33/100\n",
      "1197/1197 [==============================] - 7s 6ms/step - loss: 7.3050e-04 - mean_absolute_percentage_error: 697.4323 - val_loss: 0.0086 - val_mean_absolute_percentage_error: 70.7547\n",
      "Epoch 34/100\n",
      "1197/1197 [==============================] - 7s 6ms/step - loss: 6.2003e-04 - mean_absolute_percentage_error: 5975.8257 - val_loss: 0.0095 - val_mean_absolute_percentage_error: 161.6062\n",
      "Epoch 35/100\n",
      "1197/1197 [==============================] - 8s 6ms/step - loss: 5.8726e-04 - mean_absolute_percentage_error: 2204.9067 - val_loss: 0.0090 - val_mean_absolute_percentage_error: 110.0142\n",
      "Epoch 36/100\n",
      "1197/1197 [==============================] - 7s 6ms/step - loss: 7.5324e-04 - mean_absolute_percentage_error: 2445.4266 - val_loss: 0.0098 - val_mean_absolute_percentage_error: 175.2869\n",
      "Epoch 37/100\n",
      "1197/1197 [==============================] - 8s 6ms/step - loss: 5.8095e-04 - mean_absolute_percentage_error: 47781.8434 - val_loss: 0.0089 - val_mean_absolute_percentage_error: 57.1550\n",
      "Epoch 38/100\n",
      "1197/1197 [==============================] - 7s 6ms/step - loss: 6.2367e-04 - mean_absolute_percentage_error: 9686.3833 - val_loss: 0.0091 - val_mean_absolute_percentage_error: 46.0845\n",
      "Epoch 39/100\n",
      "1197/1197 [==============================] - 7s 6ms/step - loss: 7.4852e-04 - mean_absolute_percentage_error: 31516.3221 - val_loss: 0.0101 - val_mean_absolute_percentage_error: 116.9393\n",
      "Epoch 40/100\n",
      "1197/1197 [==============================] - 7s 6ms/step - loss: 6.8282e-04 - mean_absolute_percentage_error: 5156.9438 - val_loss: 0.0088 - val_mean_absolute_percentage_error: 43.5114\n",
      "Epoch 41/100\n",
      "1197/1197 [==============================] - 7s 6ms/step - loss: 5.8228e-04 - mean_absolute_percentage_error: 1215.5700 - val_loss: 0.0087 - val_mean_absolute_percentage_error: 93.9105\n",
      "Epoch 42/100\n",
      "1197/1197 [==============================] - 7s 6ms/step - loss: 6.1882e-04 - mean_absolute_percentage_error: 1305.8746 - val_loss: 0.0091 - val_mean_absolute_percentage_error: 148.4864\n",
      "Epoch 43/100\n",
      "1197/1197 [==============================] - 7s 6ms/step - loss: 6.6708e-04 - mean_absolute_percentage_error: 24639.6236 - val_loss: 0.0091 - val_mean_absolute_percentage_error: 56.0287\n",
      "Epoch 44/100\n",
      "1197/1197 [==============================] - 7s 6ms/step - loss: 5.7193e-04 - mean_absolute_percentage_error: 7868.3928 - val_loss: 0.0088 - val_mean_absolute_percentage_error: 60.4551\n",
      "Epoch 45/100\n",
      "1197/1197 [==============================] - 7s 6ms/step - loss: 6.0490e-04 - mean_absolute_percentage_error: 6154.5298 - val_loss: 0.0103 - val_mean_absolute_percentage_error: 281.9540\n",
      "Epoch 46/100\n",
      "1197/1197 [==============================] - 7s 6ms/step - loss: 6.4120e-04 - mean_absolute_percentage_error: 283607.2091 - val_loss: 0.0091 - val_mean_absolute_percentage_error: 57.6494\n",
      "Epoch 47/100\n",
      "1197/1197 [==============================] - 7s 6ms/step - loss: 6.5626e-04 - mean_absolute_percentage_error: 19967.7466 - val_loss: 0.0087 - val_mean_absolute_percentage_error: 67.3508\n",
      "Epoch 48/100\n",
      "1197/1197 [==============================] - 7s 6ms/step - loss: 6.5852e-04 - mean_absolute_percentage_error: 5181.2788 - val_loss: 0.0094 - val_mean_absolute_percentage_error: 117.1219\n",
      "Epoch 49/100\n",
      "1197/1197 [==============================] - 7s 6ms/step - loss: 5.6081e-04 - mean_absolute_percentage_error: 297.8943 - val_loss: 0.0090 - val_mean_absolute_percentage_error: 55.8695\n",
      "Epoch 50/100\n",
      "1197/1197 [==============================] - 7s 6ms/step - loss: 6.2513e-04 - mean_absolute_percentage_error: 10644.5493 - val_loss: 0.0090 - val_mean_absolute_percentage_error: 49.9439\n",
      "Epoch 51/100\n",
      "1197/1197 [==============================] - 7s 6ms/step - loss: 6.5773e-04 - mean_absolute_percentage_error: 40489.1757 - val_loss: 0.0095 - val_mean_absolute_percentage_error: 194.3357\n",
      "Epoch 52/100\n",
      "1197/1197 [==============================] - 7s 6ms/step - loss: 7.0925e-04 - mean_absolute_percentage_error: 49761.6255 - val_loss: 0.0098 - val_mean_absolute_percentage_error: 94.8716\n",
      "Epoch 53/100\n",
      "1197/1197 [==============================] - 7s 6ms/step - loss: 6.5733e-04 - mean_absolute_percentage_error: 5484.8674 - val_loss: 0.0103 - val_mean_absolute_percentage_error: 45.1387\n",
      "Epoch 54/100\n",
      "1197/1197 [==============================] - 7s 6ms/step - loss: 6.5795e-04 - mean_absolute_percentage_error: 5718.2014 - val_loss: 0.0099 - val_mean_absolute_percentage_error: 147.5069\n",
      "Epoch 55/100\n",
      "1197/1197 [==============================] - 7s 6ms/step - loss: 5.8277e-04 - mean_absolute_percentage_error: 1343.2982 - val_loss: 0.0095 - val_mean_absolute_percentage_error: 188.0114\n",
      "Epoch 56/100\n",
      "1197/1197 [==============================] - 7s 6ms/step - loss: 6.3919e-04 - mean_absolute_percentage_error: 1007.9878 - val_loss: 0.0106 - val_mean_absolute_percentage_error: 154.9294\n",
      "Epoch 57/100\n",
      "1197/1197 [==============================] - 7s 6ms/step - loss: 6.9889e-04 - mean_absolute_percentage_error: 10910.2458 - val_loss: 0.0094 - val_mean_absolute_percentage_error: 88.9012\n",
      "Epoch 58/100\n",
      "1197/1197 [==============================] - 7s 6ms/step - loss: 6.2096e-04 - mean_absolute_percentage_error: 2783.2660 - val_loss: 0.0095 - val_mean_absolute_percentage_error: 55.3565\n",
      "Epoch 59/100\n",
      "1197/1197 [==============================] - 7s 6ms/step - loss: 6.1742e-04 - mean_absolute_percentage_error: 225.7144 - val_loss: 0.0101 - val_mean_absolute_percentage_error: 68.4118\n",
      "Epoch 60/100\n",
      "1197/1197 [==============================] - 7s 6ms/step - loss: 5.4454e-04 - mean_absolute_percentage_error: 372.4107 - val_loss: 0.0094 - val_mean_absolute_percentage_error: 73.6919\n",
      "Epoch 61/100\n",
      "1197/1197 [==============================] - 7s 6ms/step - loss: 6.2727e-04 - mean_absolute_percentage_error: 5640.6220 - val_loss: 0.0103 - val_mean_absolute_percentage_error: 82.7715\n",
      "Epoch 62/100\n",
      "1197/1197 [==============================] - 7s 6ms/step - loss: 7.2419e-04 - mean_absolute_percentage_error: 17896.5566 - val_loss: 0.0099 - val_mean_absolute_percentage_error: 47.1881\n",
      "Epoch 63/100\n",
      "1197/1197 [==============================] - 7s 6ms/step - loss: 5.4660e-04 - mean_absolute_percentage_error: 17264.4215 - val_loss: 0.0101 - val_mean_absolute_percentage_error: 131.5396\n",
      "Epoch 64/100\n",
      "1197/1197 [==============================] - 7s 6ms/step - loss: 5.8040e-04 - mean_absolute_percentage_error: 6766.5525 - val_loss: 0.0100 - val_mean_absolute_percentage_error: 72.8106\n",
      "Epoch 65/100\n",
      "1197/1197 [==============================] - 7s 6ms/step - loss: 5.6382e-04 - mean_absolute_percentage_error: 80723.0056 - val_loss: 0.0105 - val_mean_absolute_percentage_error: 51.9221\n",
      "Epoch 66/100\n",
      "1197/1197 [==============================] - 7s 6ms/step - loss: 5.9263e-04 - mean_absolute_percentage_error: 7577.9441 - val_loss: 0.0106 - val_mean_absolute_percentage_error: 63.5538\n",
      "Epoch 67/100\n",
      "1197/1197 [==============================] - 7s 6ms/step - loss: 5.7291e-04 - mean_absolute_percentage_error: 26862.1538 - val_loss: 0.0100 - val_mean_absolute_percentage_error: 72.7273\n",
      "Epoch 68/100\n",
      "1197/1197 [==============================] - 7s 6ms/step - loss: 5.8649e-04 - mean_absolute_percentage_error: 5982.1904 - val_loss: 0.0102 - val_mean_absolute_percentage_error: 58.0922\n",
      "Epoch 69/100\n",
      "1197/1197 [==============================] - 8s 7ms/step - loss: 5.7546e-04 - mean_absolute_percentage_error: 34046.7331 - val_loss: 0.0106 - val_mean_absolute_percentage_error: 66.7453\n",
      "Epoch 70/100\n",
      "1197/1197 [==============================] - 7s 6ms/step - loss: 5.7962e-04 - mean_absolute_percentage_error: 1280.4614 - val_loss: 0.0103 - val_mean_absolute_percentage_error: 129.1388\n",
      "Epoch 71/100\n",
      "1197/1197 [==============================] - 7s 6ms/step - loss: 5.3541e-04 - mean_absolute_percentage_error: 2571.2153 - val_loss: 0.0103 - val_mean_absolute_percentage_error: 50.2131\n",
      "Epoch 72/100\n",
      "1197/1197 [==============================] - 7s 6ms/step - loss: 5.7568e-04 - mean_absolute_percentage_error: 28215.5669 - val_loss: 0.0103 - val_mean_absolute_percentage_error: 63.1479\n",
      "Epoch 73/100\n",
      "1197/1197 [==============================] - 7s 6ms/step - loss: 5.4752e-04 - mean_absolute_percentage_error: 7148.1222 - val_loss: 0.0105 - val_mean_absolute_percentage_error: 55.6365\n",
      "Epoch 74/100\n",
      "1197/1197 [==============================] - 7s 6ms/step - loss: 6.4032e-04 - mean_absolute_percentage_error: 35362.8860 - val_loss: 0.0101 - val_mean_absolute_percentage_error: 93.2899\n",
      "Epoch 75/100\n",
      "1197/1197 [==============================] - 7s 6ms/step - loss: 6.1335e-04 - mean_absolute_percentage_error: 5637.4784 - val_loss: 0.0106 - val_mean_absolute_percentage_error: 87.7425\n",
      "Epoch 76/100\n",
      "1197/1197 [==============================] - 7s 6ms/step - loss: 6.4267e-04 - mean_absolute_percentage_error: 2493.7658 - val_loss: 0.0114 - val_mean_absolute_percentage_error: 73.6918\n",
      "Epoch 77/100\n",
      "1197/1197 [==============================] - 8s 6ms/step - loss: 5.4934e-04 - mean_absolute_percentage_error: 15755.8517 - val_loss: 0.0109 - val_mean_absolute_percentage_error: 126.4193\n",
      "Epoch 78/100\n",
      "1197/1197 [==============================] - 9s 7ms/step - loss: 5.4574e-04 - mean_absolute_percentage_error: 63653.9487 - val_loss: 0.0114 - val_mean_absolute_percentage_error: 56.4857\n",
      "Epoch 79/100\n",
      "1197/1197 [==============================] - 7s 6ms/step - loss: 5.6732e-04 - mean_absolute_percentage_error: 2122.0596 - val_loss: 0.0109 - val_mean_absolute_percentage_error: 71.0472\n",
      "Epoch 80/100\n",
      "1197/1197 [==============================] - 8s 6ms/step - loss: 5.8304e-04 - mean_absolute_percentage_error: 36187.5886 - val_loss: 0.0107 - val_mean_absolute_percentage_error: 64.5767\n",
      "Epoch 81/100\n",
      "1197/1197 [==============================] - 8s 6ms/step - loss: 5.2772e-04 - mean_absolute_percentage_error: 22638.4868 - val_loss: 0.0114 - val_mean_absolute_percentage_error: 63.6672\n",
      "Epoch 82/100\n",
      "1197/1197 [==============================] - 8s 7ms/step - loss: 5.6322e-04 - mean_absolute_percentage_error: 379.6880 - val_loss: 0.0107 - val_mean_absolute_percentage_error: 68.5123\n",
      "Epoch 83/100\n"
     ]
    },
    {
     "name": "stdout",
     "output_type": "stream",
     "text": [
      "1197/1197 [==============================] - 7s 6ms/step - loss: 5.6697e-04 - mean_absolute_percentage_error: 37436.6485 - val_loss: 0.0116 - val_mean_absolute_percentage_error: 95.4397\n",
      "Epoch 84/100\n",
      "1197/1197 [==============================] - 8s 6ms/step - loss: 5.8713e-04 - mean_absolute_percentage_error: 10464.8644 - val_loss: 0.0113 - val_mean_absolute_percentage_error: 62.8429\n",
      "Epoch 85/100\n",
      "1197/1197 [==============================] - 8s 7ms/step - loss: 5.5869e-04 - mean_absolute_percentage_error: 2996.4130 - val_loss: 0.0109 - val_mean_absolute_percentage_error: 56.2365\n",
      "Epoch 86/100\n",
      "1197/1197 [==============================] - 7s 6ms/step - loss: 5.7803e-04 - mean_absolute_percentage_error: 46939.8533 - val_loss: 0.0111 - val_mean_absolute_percentage_error: 102.2509\n",
      "Epoch 87/100\n",
      "1197/1197 [==============================] - 8s 6ms/step - loss: 6.0441e-04 - mean_absolute_percentage_error: 2542.7173 - val_loss: 0.0105 - val_mean_absolute_percentage_error: 64.7018\n",
      "Epoch 88/100\n",
      "1197/1197 [==============================] - 7s 6ms/step - loss: 5.5518e-04 - mean_absolute_percentage_error: 21332.4212 - val_loss: 0.0110 - val_mean_absolute_percentage_error: 82.1585\n",
      "Epoch 89/100\n",
      "1197/1197 [==============================] - 8s 6ms/step - loss: 5.9387e-04 - mean_absolute_percentage_error: 24438.6777 - val_loss: 0.0111 - val_mean_absolute_percentage_error: 107.7561\n",
      "Epoch 90/100\n",
      "1197/1197 [==============================] - 7s 6ms/step - loss: 5.3748e-04 - mean_absolute_percentage_error: 8268.1759 - val_loss: 0.0107 - val_mean_absolute_percentage_error: 61.6346\n",
      "Epoch 91/100\n",
      "1197/1197 [==============================] - 7s 6ms/step - loss: 5.1259e-04 - mean_absolute_percentage_error: 1231.6512 - val_loss: 0.0112 - val_mean_absolute_percentage_error: 67.0310\n",
      "Epoch 92/100\n",
      "1197/1197 [==============================] - 7s 6ms/step - loss: 5.0420e-04 - mean_absolute_percentage_error: 4721.9449 - val_loss: 0.0113 - val_mean_absolute_percentage_error: 113.0886\n",
      "Epoch 93/100\n",
      "1197/1197 [==============================] - 7s 6ms/step - loss: 5.7502e-04 - mean_absolute_percentage_error: 768.8442 - val_loss: 0.0110 - val_mean_absolute_percentage_error: 159.2072\n",
      "Epoch 94/100\n",
      "1197/1197 [==============================] - 7s 6ms/step - loss: 6.3275e-04 - mean_absolute_percentage_error: 14247.9919 - val_loss: 0.0108 - val_mean_absolute_percentage_error: 73.3252\n",
      "Epoch 95/100\n",
      "1197/1197 [==============================] - 7s 6ms/step - loss: 5.7131e-04 - mean_absolute_percentage_error: 322.2920 - val_loss: 0.0113 - val_mean_absolute_percentage_error: 124.5528\n",
      "Epoch 96/100\n",
      "1197/1197 [==============================] - 7s 6ms/step - loss: 5.2576e-04 - mean_absolute_percentage_error: 17511.8373 - val_loss: 0.0116 - val_mean_absolute_percentage_error: 69.3362\n",
      "Epoch 97/100\n",
      "1197/1197 [==============================] - 7s 6ms/step - loss: 5.5000e-04 - mean_absolute_percentage_error: 36185.2955 - val_loss: 0.0123 - val_mean_absolute_percentage_error: 149.3377\n",
      "Epoch 98/100\n",
      "1197/1197 [==============================] - 8s 7ms/step - loss: 5.1305e-04 - mean_absolute_percentage_error: 4686.8052 - val_loss: 0.0118 - val_mean_absolute_percentage_error: 110.3465\n",
      "Epoch 99/100\n",
      "1197/1197 [==============================] - 8s 6ms/step - loss: 5.3548e-04 - mean_absolute_percentage_error: 34364.0956 - val_loss: 0.0105 - val_mean_absolute_percentage_error: 75.9638\n",
      "Epoch 100/100\n",
      "1197/1197 [==============================] - 9s 7ms/step - loss: 5.6124e-04 - mean_absolute_percentage_error: 15779.3293 - val_loss: 0.0109 - val_mean_absolute_percentage_error: 65.7077\n"
     ]
    }
   ],
   "source": [
    "#compile the model\n",
    "model.compile(optimizer='adam', loss='mean_squared_error', metrics = [\"mean_absolute_percentage_error\"])\n",
    "\n",
    "history = model.fit(X, y, batch_size=1, \n",
    "                    epochs=100,\n",
    "                    validation_data=(Xt, yt))"
   ]
  },
  {
   "cell_type": "code",
   "execution_count": 31,
   "metadata": {},
   "outputs": [
    {
     "data": {
      "text/plain": [
       "dict_keys(['loss', 'mean_absolute_percentage_error', 'val_loss', 'val_mean_absolute_percentage_error'])"
      ]
     },
     "execution_count": 31,
     "metadata": {},
     "output_type": "execute_result"
    }
   ],
   "source": [
    "history_dict = history.history\n",
    "history_dict.keys()"
   ]
  },
  {
   "cell_type": "code",
   "execution_count": 32,
   "metadata": {
    "scrolled": true
   },
   "outputs": [
    {
     "data": {
      "image/png": "[encoded data removed]",
      "text/plain": [
       "<Figure size 432x288 with 1 Axes>"
      ]
     },
     "metadata": {
      "needs_background": "light"
     },
     "output_type": "display_data"
    }
   ],
   "source": [
    "history_dict = history.history\n",
    "loss_values = history_dict['loss']\n",
    "\n",
    "epochs = range(1, len(loss_values) + 1)\n",
    "plt.plot(epochs, loss_values, 'g', label='Training loss')\n",
    "\n",
    "plt.title('Training loss')\n",
    "plt.xlabel('Epochs')\n",
    "plt.ylabel('Loss')\n",
    "plt.legend()\n",
    "plt.show()"
   ]
  },
  {
   "cell_type": "code",
   "execution_count": 33,
   "metadata": {},
   "outputs": [
    {
     "data": {
      "image/png": "[encoded data removed]",
      "text/plain": [
       "<Figure size 432x288 with 1 Axes>"
      ]
     },
     "metadata": {
      "needs_background": "light"
     },
     "output_type": "display_data"
    }
   ],
   "source": [
    "mape_values = history_dict[\"mean_absolute_percentage_error\"] \n",
    "\n",
    "plt.plot(epochs, mape_values, 'r', label='Training MAPE')\n",
    "plt.title('Training Accuracy')\n",
    "plt.xlabel('Epochs')\n",
    "plt.ylabel('Mape')\n",
    "plt.legend()\n",
    "plt.show()"
   ]
  },
  {
   "cell_type": "code",
   "execution_count": 34,
   "metadata": {
    "id": "Z2nE-GC_DE-5"
   },
   "outputs": [],
   "source": [
    "#Get the model predicted Price values\n",
    "predictions = model.predict(Xt)\n",
    "predictions = sy.inverse_transform(predictions)\n",
    "yt_unscaled = sy.inverse_transform(yt)"
   ]
  },
  {
   "cell_type": "code",
   "execution_count": 35,
   "metadata": {},
   "outputs": [
    {
     "data": {
      "text/plain": [
       "301"
      ]
     },
     "execution_count": 35,
     "metadata": {},
     "output_type": "execute_result"
    }
   ],
   "source": [
    "len(predictions)"
   ]
  },
  {
   "cell_type": "code",
   "execution_count": 36,
   "metadata": {
    "colab": {
     "base_uri": "https://localhost:8080/"
    },
    "id": "L2c44vBZD3H3",
    "outputId": "b4c04c58-7090-42ce-a951-9e4eec240c03",
    "scrolled": true
   },
   "outputs": [
    {
     "name": "stdout",
     "output_type": "stream",
     "text": [
      "RMSE: 3.4538901839087215\n"
     ]
    }
   ],
   "source": [
    "#Get the root mean squared error (RMSE)\n",
    "rmse = np.sqrt(((predictions - yt_unscaled) ** 2).mean())\n",
    "print('RMSE:', rmse)"
   ]
  },
  {
   "cell_type": "code",
   "execution_count": 37,
   "metadata": {},
   "outputs": [
    {
     "name": "stdout",
     "output_type": "stream",
     "text": [
      "38/38 [==============================] - 1s 3ms/step - loss: 6.5557e-04 - mean_absolute_percentage_error: 10859.1426\n",
      "Training Loss: 0.000656 \n",
      "Training MAPE: 1.09e+04\n",
      "----------\n",
      "10/10 [==============================] - 0s 3ms/step - loss: 0.0109 - mean_absolute_percentage_error: 65.7076 \n",
      "Test Loss: 0.0109 \n",
      "Test MAPE: 65.7\n",
      "RMSE: 3.4538901839087215\n"
     ]
    }
   ],
   "source": [
    "results_train = model.evaluate(X, y)\n",
    "print(f'Training Loss: {results_train[0]:.3} \\nTraining MAPE: {results_train[1]:.3}')\n",
    "\n",
    "print('----------')\n",
    "\n",
    "results_test = model.evaluate(Xt, yt)\n",
    "print(f'Test Loss: {results_test[0]:.3} \\nTest MAPE: {results_test[1]:.3}')\n",
    "print('RMSE:', rmse)"
   ]
  },
  {
   "cell_type": "code",
   "execution_count": 38,
   "metadata": {
    "colab": {
     "base_uri": "https://localhost:8080/",
     "height": 622
    },
    "id": "1YeJD6IAEhFx",
    "outputId": "5ee1f423-d1a2-4257-9760-63f883add57f",
    "scrolled": false
   },
   "outputs": [
    {
     "data": {
      "image/png": "[encoded data removed]",
      "text/plain": [
       "<Figure size 1152x576 with 1 Axes>"
      ]
     },
     "metadata": {
      "needs_background": "light"
     },
     "output_type": "display_data"
    }
   ],
   "source": [
    "#plot the data\n",
    "data = df.filter(['Close'])\n",
    "train =data[:training_data_len]\n",
    "valid = data[training_data_len:]\n",
    "valid['Predictions'] = predictions\n",
    "#Visualize the data\n",
    "plt.figure(figsize= (16, 8))\n",
    "plt.title('Base Model')\n",
    "plt.xlabel('Date', fontsize=18)\n",
    "plt.ylabel('Close Price USD ($)', fontsize=18)\n",
    "plt.plot(train['Close'])\n",
    "plt.plot(valid[['Close', 'Predictions']])\n",
    "plt.legend(['Train', 'Val', 'Predictions'], loc='lower right')\n",
    "plt.show()"
   ]
  },
  {
   "cell_type": "code",
   "execution_count": 39,
   "metadata": {
    "colab": {
     "base_uri": "https://localhost:8080/",
     "height": 431
    },
    "id": "eB9v8Z_ZGi3z",
    "outputId": "c350bbb0-db95-48f3-f7ec-8002d8ab00ee",
    "scrolled": true
   },
   "outputs": [
    {
     "data": {
      "text/html": [
       "<div>\n",
       "<style scoped>\n",
       "    .dataframe tbody tr th:only-of-type {\n",
       "        vertical-align: middle;\n",
       "    }\n",
       "\n",
       "    .dataframe tbody tr th {\n",
       "        vertical-align: top;\n",
       "    }\n",
       "\n",
       "    .dataframe thead th {\n",
       "        text-align: right;\n",
       "    }\n",
       "</style>\n",
       "<table border=\"1\" class=\"dataframe\">\n",
       "  <thead>\n",
       "    <tr style=\"text-align: right;\">\n",
       "      <th></th>\n",
       "      <th>Close</th>\n",
       "      <th>Predictions</th>\n",
       "    </tr>\n",
       "    <tr>\n",
       "      <th>Date</th>\n",
       "      <th></th>\n",
       "      <th></th>\n",
       "    </tr>\n",
       "  </thead>\n",
       "  <tbody>\n",
       "    <tr>\n",
       "      <th>2020-03-27</th>\n",
       "      <td>3.600000</td>\n",
       "      <td>3.474436</td>\n",
       "    </tr>\n",
       "    <tr>\n",
       "      <th>2020-03-30</th>\n",
       "      <td>3.040000</td>\n",
       "      <td>3.369785</td>\n",
       "    </tr>\n",
       "    <tr>\n",
       "      <th>2020-03-31</th>\n",
       "      <td>3.160000</td>\n",
       "      <td>2.873404</td>\n",
       "    </tr>\n",
       "    <tr>\n",
       "      <th>2020-04-01</th>\n",
       "      <td>2.620000</td>\n",
       "      <td>2.949310</td>\n",
       "    </tr>\n",
       "    <tr>\n",
       "      <th>2020-04-02</th>\n",
       "      <td>2.240000</td>\n",
       "      <td>2.649660</td>\n",
       "    </tr>\n",
       "    <tr>\n",
       "      <th>...</th>\n",
       "      <td>...</td>\n",
       "      <td>...</td>\n",
       "    </tr>\n",
       "    <tr>\n",
       "      <th>2021-06-01</th>\n",
       "      <td>32.040001</td>\n",
       "      <td>25.594419</td>\n",
       "    </tr>\n",
       "    <tr>\n",
       "      <th>2021-06-02</th>\n",
       "      <td>62.549999</td>\n",
       "      <td>32.088558</td>\n",
       "    </tr>\n",
       "    <tr>\n",
       "      <th>2021-06-03</th>\n",
       "      <td>51.340000</td>\n",
       "      <td>70.319435</td>\n",
       "    </tr>\n",
       "    <tr>\n",
       "      <th>2021-06-04</th>\n",
       "      <td>47.910000</td>\n",
       "      <td>40.334942</td>\n",
       "    </tr>\n",
       "    <tr>\n",
       "      <th>2021-06-07</th>\n",
       "      <td>55.000000</td>\n",
       "      <td>37.763466</td>\n",
       "    </tr>\n",
       "  </tbody>\n",
       "</table>\n",
       "<p>301 rows × 2 columns</p>\n",
       "</div>"
      ],
      "text/plain": [
       "                Close  Predictions\n",
       "Date                              \n",
       "2020-03-27   3.600000     3.474436\n",
       "2020-03-30   3.040000     3.369785\n",
       "2020-03-31   3.160000     2.873404\n",
       "2020-04-01   2.620000     2.949310\n",
       "2020-04-02   2.240000     2.649660\n",
       "...               ...          ...\n",
       "2021-06-01  32.040001    25.594419\n",
       "2021-06-02  62.549999    32.088558\n",
       "2021-06-03  51.340000    70.319435\n",
       "2021-06-04  47.910000    40.334942\n",
       "2021-06-07  55.000000    37.763466\n",
       "\n",
       "[301 rows x 2 columns]"
      ]
     },
     "execution_count": 39,
     "metadata": {},
     "output_type": "execute_result"
    }
   ],
   "source": [
    "valid"
   ]
  },
  {
   "cell_type": "markdown",
   "metadata": {},
   "source": [
    "## Final Model:"
   ]
  },
  {
   "cell_type": "code",
   "execution_count": 40,
   "metadata": {
    "scrolled": true
   },
   "outputs": [],
   "source": [
    "#Model Turning\n",
    "\n",
    "model2 = Sequential()\n",
    "model2.add(LSTM(100, return_sequences=True, input_shape= (X.shape[1], 3)))\n",
    "model2.add(Dense(50))\n",
    "model2.add(LSTM(100, return_sequences=False))\n",
    "model2.add(Dense(50))\n",
    "model2.add(Dense(25))\n",
    "model2.add(Dense(1))"
   ]
  },
  {
   "cell_type": "code",
   "execution_count": 41,
   "metadata": {
    "scrolled": true
   },
   "outputs": [
    {
     "name": "stdout",
     "output_type": "stream",
     "text": [
      "Epoch 1/100\n",
      "60/60 [==============================] - 6s 30ms/step - loss: 0.0619 - mean_absolute_percentage_error: 267535.8944 - val_loss: 0.0229 - val_mean_absolute_percentage_error: 136.8218\n",
      "Epoch 2/100\n",
      "60/60 [==============================] - 1s 13ms/step - loss: 0.0014 - mean_absolute_percentage_error: 78504.3824 - val_loss: 0.0231 - val_mean_absolute_percentage_error: 103.5413\n",
      "Epoch 3/100\n",
      "60/60 [==============================] - 1s 14ms/step - loss: 0.0016 - mean_absolute_percentage_error: 53154.7299 - val_loss: 0.0222 - val_mean_absolute_percentage_error: 79.0649\n",
      "Epoch 4/100\n",
      "60/60 [==============================] - 1s 13ms/step - loss: 0.0014 - mean_absolute_percentage_error: 63063.6458 - val_loss: 0.0227 - val_mean_absolute_percentage_error: 77.4784\n",
      "Epoch 5/100\n",
      "60/60 [==============================] - 1s 13ms/step - loss: 0.0013 - mean_absolute_percentage_error: 43285.4557 - val_loss: 0.0234 - val_mean_absolute_percentage_error: 63.9669\n",
      "Epoch 6/100\n",
      "60/60 [==============================] - 1s 13ms/step - loss: 0.0019 - mean_absolute_percentage_error: 11124.1249 - val_loss: 0.0221 - val_mean_absolute_percentage_error: 66.8992\n",
      "Epoch 7/100\n",
      "60/60 [==============================] - 1s 13ms/step - loss: 0.0012 - mean_absolute_percentage_error: 58327.6561 - val_loss: 0.0214 - val_mean_absolute_percentage_error: 65.2729\n",
      "Epoch 8/100\n",
      "60/60 [==============================] - 1s 13ms/step - loss: 0.0013 - mean_absolute_percentage_error: 1125.2201 - val_loss: 0.0203 - val_mean_absolute_percentage_error: 62.5520\n",
      "Epoch 9/100\n",
      "60/60 [==============================] - 1s 13ms/step - loss: 0.0013 - mean_absolute_percentage_error: 33181.0532 - val_loss: 0.0189 - val_mean_absolute_percentage_error: 146.7579\n",
      "Epoch 10/100\n",
      "60/60 [==============================] - 1s 13ms/step - loss: 0.0012 - mean_absolute_percentage_error: 9287.2126 - val_loss: 0.0198 - val_mean_absolute_percentage_error: 68.7968\n",
      "Epoch 11/100\n",
      "60/60 [==============================] - 1s 13ms/step - loss: 0.0013 - mean_absolute_percentage_error: 2297.5582 - val_loss: 0.0180 - val_mean_absolute_percentage_error: 78.7999\n",
      "Epoch 12/100\n",
      "60/60 [==============================] - 1s 13ms/step - loss: 0.0013 - mean_absolute_percentage_error: 161330.1610 - val_loss: 0.0181 - val_mean_absolute_percentage_error: 92.4461\n",
      "Epoch 13/100\n",
      "60/60 [==============================] - 1s 13ms/step - loss: 0.0013 - mean_absolute_percentage_error: 26177.9921 - val_loss: 0.0182 - val_mean_absolute_percentage_error: 89.8796\n",
      "Epoch 14/100\n",
      "60/60 [==============================] - 1s 14ms/step - loss: 0.0010 - mean_absolute_percentage_error: 3288.5625 - val_loss: 0.0172 - val_mean_absolute_percentage_error: 83.3031\n",
      "Epoch 15/100\n",
      "60/60 [==============================] - 1s 14ms/step - loss: 0.0012 - mean_absolute_percentage_error: 35307.1597 - val_loss: 0.0160 - val_mean_absolute_percentage_error: 59.0269\n",
      "Epoch 16/100\n",
      "60/60 [==============================] - 1s 13ms/step - loss: 0.0011 - mean_absolute_percentage_error: 23628.6382 - val_loss: 0.0151 - val_mean_absolute_percentage_error: 68.4591\n",
      "Epoch 17/100\n",
      "60/60 [==============================] - 1s 11ms/step - loss: 0.0011 - mean_absolute_percentage_error: 29766.7858 - val_loss: 0.0145 - val_mean_absolute_percentage_error: 60.7200\n",
      "Epoch 18/100\n",
      "60/60 [==============================] - 1s 10ms/step - loss: 9.2422e-04 - mean_absolute_percentage_error: 1317.5449 - val_loss: 0.0132 - val_mean_absolute_percentage_error: 61.1663\n",
      "Epoch 19/100\n",
      "60/60 [==============================] - 1s 10ms/step - loss: 8.3995e-04 - mean_absolute_percentage_error: 2630.1134 - val_loss: 0.0139 - val_mean_absolute_percentage_error: 115.7001\n",
      "Epoch 20/100\n",
      "60/60 [==============================] - 1s 11ms/step - loss: 0.0013 - mean_absolute_percentage_error: 25640.5052 - val_loss: 0.0123 - val_mean_absolute_percentage_error: 130.2471\n",
      "Epoch 21/100\n",
      "60/60 [==============================] - 1s 13ms/step - loss: 0.0010 - mean_absolute_percentage_error: 19971.1117 - val_loss: 0.0120 - val_mean_absolute_percentage_error: 80.4637\n",
      "Epoch 22/100\n",
      "60/60 [==============================] - 1s 13ms/step - loss: 7.7736e-04 - mean_absolute_percentage_error: 5789.6186 - val_loss: 0.0119 - val_mean_absolute_percentage_error: 105.7947\n",
      "Epoch 23/100\n",
      "60/60 [==============================] - 1s 15ms/step - loss: 6.7264e-04 - mean_absolute_percentage_error: 16151.4105 - val_loss: 0.0103 - val_mean_absolute_percentage_error: 65.1194\n",
      "Epoch 24/100\n",
      "60/60 [==============================] - 1s 13ms/step - loss: 7.3688e-04 - mean_absolute_percentage_error: 34140.7076 - val_loss: 0.0103 - val_mean_absolute_percentage_error: 61.5333\n",
      "Epoch 25/100\n",
      "60/60 [==============================] - 1s 13ms/step - loss: 8.7301e-04 - mean_absolute_percentage_error: 31176.2157 - val_loss: 0.0104 - val_mean_absolute_percentage_error: 64.3055\n",
      "Epoch 26/100\n",
      "60/60 [==============================] - 1s 13ms/step - loss: 6.6056e-04 - mean_absolute_percentage_error: 11041.8422 - val_loss: 0.0103 - val_mean_absolute_percentage_error: 60.2626\n",
      "Epoch 27/100\n",
      "60/60 [==============================] - 1s 13ms/step - loss: 7.5553e-04 - mean_absolute_percentage_error: 14328.1298 - val_loss: 0.0100 - val_mean_absolute_percentage_error: 62.1166\n",
      "Epoch 28/100\n",
      "60/60 [==============================] - 1s 13ms/step - loss: 7.6766e-04 - mean_absolute_percentage_error: 1953.2572 - val_loss: 0.0091 - val_mean_absolute_percentage_error: 60.9951\n",
      "Epoch 29/100\n",
      "60/60 [==============================] - 1s 13ms/step - loss: 6.9103e-04 - mean_absolute_percentage_error: 3396.2764 - val_loss: 0.0092 - val_mean_absolute_percentage_error: 65.2832\n",
      "Epoch 30/100\n",
      "60/60 [==============================] - 1s 13ms/step - loss: 7.6722e-04 - mean_absolute_percentage_error: 2022.8285 - val_loss: 0.0095 - val_mean_absolute_percentage_error: 99.2569\n",
      "Epoch 31/100\n",
      "60/60 [==============================] - 1s 14ms/step - loss: 8.8392e-04 - mean_absolute_percentage_error: 12678.0117 - val_loss: 0.0091 - val_mean_absolute_percentage_error: 62.4592\n",
      "Epoch 32/100\n",
      "60/60 [==============================] - 1s 14ms/step - loss: 6.3236e-04 - mean_absolute_percentage_error: 1078.0429 - val_loss: 0.0086 - val_mean_absolute_percentage_error: 57.8321\n",
      "Epoch 33/100\n",
      "60/60 [==============================] - 1s 13ms/step - loss: 6.8950e-04 - mean_absolute_percentage_error: 12952.8263 - val_loss: 0.0083 - val_mean_absolute_percentage_error: 80.1175\n",
      "Epoch 34/100\n",
      "60/60 [==============================] - 1s 13ms/step - loss: 7.2188e-04 - mean_absolute_percentage_error: 1278.6074 - val_loss: 0.0085 - val_mean_absolute_percentage_error: 63.1378\n",
      "Epoch 35/100\n",
      "60/60 [==============================] - 1s 13ms/step - loss: 6.1251e-04 - mean_absolute_percentage_error: 413.5466 - val_loss: 0.0085 - val_mean_absolute_percentage_error: 113.6825\n",
      "Epoch 36/100\n",
      "60/60 [==============================] - 1s 13ms/step - loss: 5.6606e-04 - mean_absolute_percentage_error: 178.8419 - val_loss: 0.0088 - val_mean_absolute_percentage_error: 75.6355\n",
      "Epoch 37/100\n",
      "60/60 [==============================] - 1s 12ms/step - loss: 6.9468e-04 - mean_absolute_percentage_error: 901.6496 - val_loss: 0.0085 - val_mean_absolute_percentage_error: 70.2502\n",
      "Epoch 38/100\n",
      "60/60 [==============================] - 1s 11ms/step - loss: 5.7838e-04 - mean_absolute_percentage_error: 10130.3914 - val_loss: 0.0084 - val_mean_absolute_percentage_error: 60.8674\n",
      "Epoch 39/100\n",
      "60/60 [==============================] - 1s 12ms/step - loss: 5.9313e-04 - mean_absolute_percentage_error: 2982.8907 - val_loss: 0.0080 - val_mean_absolute_percentage_error: 56.6447\n",
      "Epoch 40/100\n",
      "60/60 [==============================] - 1s 12ms/step - loss: 6.2799e-04 - mean_absolute_percentage_error: 411.4605 - val_loss: 0.0089 - val_mean_absolute_percentage_error: 61.4964\n",
      "Epoch 41/100\n",
      "60/60 [==============================] - 1s 12ms/step - loss: 7.9870e-04 - mean_absolute_percentage_error: 2803.3745 - val_loss: 0.0085 - val_mean_absolute_percentage_error: 58.8872\n",
      "Epoch 42/100\n",
      "60/60 [==============================] - 1s 12ms/step - loss: 6.0501e-04 - mean_absolute_percentage_error: 1941.8212 - val_loss: 0.0095 - val_mean_absolute_percentage_error: 129.7940\n",
      "Epoch 43/100\n",
      "60/60 [==============================] - 1s 13ms/step - loss: 7.2761e-04 - mean_absolute_percentage_error: 6146.4995 - val_loss: 0.0085 - val_mean_absolute_percentage_error: 64.1253\n",
      "Epoch 44/100\n",
      "60/60 [==============================] - 1s 14ms/step - loss: 5.6195e-04 - mean_absolute_percentage_error: 8815.5691 - val_loss: 0.0089 - val_mean_absolute_percentage_error: 65.1529\n",
      "Epoch 45/100\n",
      "60/60 [==============================] - 1s 12ms/step - loss: 5.8284e-04 - mean_absolute_percentage_error: 3345.1443 - val_loss: 0.0086 - val_mean_absolute_percentage_error: 49.2106\n",
      "Epoch 46/100\n",
      "60/60 [==============================] - 1s 13ms/step - loss: 5.2072e-04 - mean_absolute_percentage_error: 10148.8953 - val_loss: 0.0086 - val_mean_absolute_percentage_error: 60.5155\n",
      "Epoch 47/100\n",
      "60/60 [==============================] - 1s 12ms/step - loss: 5.6047e-04 - mean_absolute_percentage_error: 20480.2129 - val_loss: 0.0088 - val_mean_absolute_percentage_error: 52.3724\n",
      "Epoch 48/100\n",
      "60/60 [==============================] - 1s 12ms/step - loss: 4.9949e-04 - mean_absolute_percentage_error: 1200.4126 - val_loss: 0.0086 - val_mean_absolute_percentage_error: 61.7453\n",
      "Epoch 49/100\n",
      "60/60 [==============================] - 1s 12ms/step - loss: 6.6983e-04 - mean_absolute_percentage_error: 6873.8980 - val_loss: 0.0089 - val_mean_absolute_percentage_error: 59.2423\n",
      "Epoch 50/100\n",
      "60/60 [==============================] - 1s 13ms/step - loss: 5.4662e-04 - mean_absolute_percentage_error: 822.6078 - val_loss: 0.0087 - val_mean_absolute_percentage_error: 67.8057\n",
      "Epoch 51/100\n",
      "60/60 [==============================] - 1s 14ms/step - loss: 5.7040e-04 - mean_absolute_percentage_error: 3396.6809 - val_loss: 0.0087 - val_mean_absolute_percentage_error: 56.4884\n",
      "Epoch 52/100\n",
      "60/60 [==============================] - 1s 12ms/step - loss: 4.9328e-04 - mean_absolute_percentage_error: 1148.9161 - val_loss: 0.0086 - val_mean_absolute_percentage_error: 82.6820\n",
      "Epoch 53/100\n",
      "60/60 [==============================] - 1s 12ms/step - loss: 6.4309e-04 - mean_absolute_percentage_error: 134.1642 - val_loss: 0.0101 - val_mean_absolute_percentage_error: 188.1983\n",
      "Epoch 54/100\n",
      "60/60 [==============================] - 1s 12ms/step - loss: 5.2939e-04 - mean_absolute_percentage_error: 1247.1152 - val_loss: 0.0092 - val_mean_absolute_percentage_error: 49.9307\n",
      "Epoch 55/100\n",
      "60/60 [==============================] - 1s 13ms/step - loss: 6.1487e-04 - mean_absolute_percentage_error: 3446.0110 - val_loss: 0.0092 - val_mean_absolute_percentage_error: 79.6335\n",
      "Epoch 56/100\n",
      "60/60 [==============================] - 1s 12ms/step - loss: 6.3301e-04 - mean_absolute_percentage_error: 5868.8810 - val_loss: 0.0093 - val_mean_absolute_percentage_error: 99.0616\n",
      "Epoch 57/100\n",
      "60/60 [==============================] - 1s 13ms/step - loss: 5.6103e-04 - mean_absolute_percentage_error: 19865.4866 - val_loss: 0.0090 - val_mean_absolute_percentage_error: 65.5673\n",
      "Epoch 58/100\n",
      "60/60 [==============================] - 1s 14ms/step - loss: 6.2015e-04 - mean_absolute_percentage_error: 21591.6412 - val_loss: 0.0092 - val_mean_absolute_percentage_error: 73.5649\n",
      "Epoch 59/100\n",
      "60/60 [==============================] - 1s 13ms/step - loss: 7.5438e-04 - mean_absolute_percentage_error: 5600.9905 - val_loss: 0.0094 - val_mean_absolute_percentage_error: 52.6842\n",
      "Epoch 60/100\n",
      "60/60 [==============================] - 1s 13ms/step - loss: 6.8676e-04 - mean_absolute_percentage_error: 8943.5149 - val_loss: 0.0091 - val_mean_absolute_percentage_error: 82.0688\n",
      "Epoch 61/100\n",
      "60/60 [==============================] - 1s 13ms/step - loss: 4.5975e-04 - mean_absolute_percentage_error: 1699.7685 - val_loss: 0.0091 - val_mean_absolute_percentage_error: 59.0953\n",
      "Epoch 62/100\n",
      "60/60 [==============================] - 1s 13ms/step - loss: 5.0079e-04 - mean_absolute_percentage_error: 2392.7367 - val_loss: 0.0091 - val_mean_absolute_percentage_error: 49.7510\n",
      "Epoch 63/100\n",
      "60/60 [==============================] - 1s 12ms/step - loss: 5.8513e-04 - mean_absolute_percentage_error: 15041.2437 - val_loss: 0.0091 - val_mean_absolute_percentage_error: 52.1278\n",
      "Epoch 64/100\n",
      "60/60 [==============================] - 1s 12ms/step - loss: 5.3413e-04 - mean_absolute_percentage_error: 6320.1609 - val_loss: 0.0098 - val_mean_absolute_percentage_error: 124.4773\n",
      "Epoch 65/100\n",
      "60/60 [==============================] - 1s 12ms/step - loss: 5.9164e-04 - mean_absolute_percentage_error: 1916.1139 - val_loss: 0.0096 - val_mean_absolute_percentage_error: 72.3660\n",
      "Epoch 66/100\n",
      "60/60 [==============================] - 1s 12ms/step - loss: 5.8375e-04 - mean_absolute_percentage_error: 824.3375 - val_loss: 0.0094 - val_mean_absolute_percentage_error: 52.1875\n",
      "Epoch 67/100\n",
      "60/60 [==============================] - 1s 13ms/step - loss: 5.6652e-04 - mean_absolute_percentage_error: 21722.4914 - val_loss: 0.0090 - val_mean_absolute_percentage_error: 113.4275\n",
      "Epoch 68/100\n",
      "60/60 [==============================] - 1s 13ms/step - loss: 6.4054e-04 - mean_absolute_percentage_error: 93777.4995 - val_loss: 0.0092 - val_mean_absolute_percentage_error: 51.9703\n",
      "Epoch 69/100\n",
      "60/60 [==============================] - 1s 14ms/step - loss: 5.2119e-04 - mean_absolute_percentage_error: 12130.8038 - val_loss: 0.0092 - val_mean_absolute_percentage_error: 49.2711\n",
      "Epoch 70/100\n",
      "60/60 [==============================] - 1s 13ms/step - loss: 6.0510e-04 - mean_absolute_percentage_error: 766.1429 - val_loss: 0.0090 - val_mean_absolute_percentage_error: 61.7511\n",
      "Epoch 71/100\n",
      "60/60 [==============================] - 1s 13ms/step - loss: 7.1209e-04 - mean_absolute_percentage_error: 870.2556 - val_loss: 0.0093 - val_mean_absolute_percentage_error: 51.4285\n",
      "Epoch 72/100\n",
      "60/60 [==============================] - 1s 12ms/step - loss: 7.1140e-04 - mean_absolute_percentage_error: 5361.5070 - val_loss: 0.0094 - val_mean_absolute_percentage_error: 49.8546\n",
      "Epoch 73/100\n",
      "60/60 [==============================] - 1s 12ms/step - loss: 6.0254e-04 - mean_absolute_percentage_error: 4662.8337 - val_loss: 0.0093 - val_mean_absolute_percentage_error: 139.7551\n",
      "Epoch 74/100\n",
      "60/60 [==============================] - 1s 12ms/step - loss: 5.8332e-04 - mean_absolute_percentage_error: 13539.6202 - val_loss: 0.0091 - val_mean_absolute_percentage_error: 76.2202\n",
      "Epoch 75/100\n",
      "60/60 [==============================] - 1s 12ms/step - loss: 7.8419e-04 - mean_absolute_percentage_error: 1505.4056 - val_loss: 0.0094 - val_mean_absolute_percentage_error: 67.5834\n",
      "Epoch 76/100\n",
      "60/60 [==============================] - 1s 12ms/step - loss: 5.8858e-04 - mean_absolute_percentage_error: 40821.4327 - val_loss: 0.0092 - val_mean_absolute_percentage_error: 58.4972\n",
      "Epoch 77/100\n",
      "60/60 [==============================] - 1s 12ms/step - loss: 5.4727e-04 - mean_absolute_percentage_error: 3848.8629 - val_loss: 0.0089 - val_mean_absolute_percentage_error: 59.5886\n",
      "Epoch 78/100\n",
      "60/60 [==============================] - 1s 14ms/step - loss: 6.1855e-04 - mean_absolute_percentage_error: 3520.6013 - val_loss: 0.0097 - val_mean_absolute_percentage_error: 85.6701\n",
      "Epoch 79/100\n",
      "60/60 [==============================] - 1s 12ms/step - loss: 5.9158e-04 - mean_absolute_percentage_error: 1242.7808 - val_loss: 0.0092 - val_mean_absolute_percentage_error: 63.9778\n",
      "Epoch 80/100\n",
      "60/60 [==============================] - 1s 12ms/step - loss: 5.7947e-04 - mean_absolute_percentage_error: 531.5427 - val_loss: 0.0093 - val_mean_absolute_percentage_error: 58.6369\n",
      "Epoch 81/100\n",
      "60/60 [==============================] - 1s 12ms/step - loss: 5.3694e-04 - mean_absolute_percentage_error: 5875.5580 - val_loss: 0.0095 - val_mean_absolute_percentage_error: 70.0252\n",
      "Epoch 82/100\n",
      "60/60 [==============================] - 1s 12ms/step - loss: 6.2959e-04 - mean_absolute_percentage_error: 857.8034 - val_loss: 0.0091 - val_mean_absolute_percentage_error: 63.8944\n",
      "Epoch 83/100\n",
      "60/60 [==============================] - 1s 13ms/step - loss: 5.5828e-04 - mean_absolute_percentage_error: 184.8408 - val_loss: 0.0094 - val_mean_absolute_percentage_error: 95.9117\n",
      "Epoch 84/100\n",
      "60/60 [==============================] - 1s 13ms/step - loss: 6.7693e-04 - mean_absolute_percentage_error: 348.6774 - val_loss: 0.0094 - val_mean_absolute_percentage_error: 90.8282\n",
      "Epoch 85/100\n"
     ]
    },
    {
     "name": "stdout",
     "output_type": "stream",
     "text": [
      "60/60 [==============================] - 1s 13ms/step - loss: 5.1182e-04 - mean_absolute_percentage_error: 2103.6717 - val_loss: 0.0094 - val_mean_absolute_percentage_error: 59.3707\n",
      "Epoch 86/100\n",
      "60/60 [==============================] - 1s 12ms/step - loss: 5.3088e-04 - mean_absolute_percentage_error: 21446.2205 - val_loss: 0.0091 - val_mean_absolute_percentage_error: 50.6005\n",
      "Epoch 87/100\n",
      "60/60 [==============================] - 1s 12ms/step - loss: 6.3803e-04 - mean_absolute_percentage_error: 13496.0510 - val_loss: 0.0094 - val_mean_absolute_percentage_error: 79.3046\n",
      "Epoch 88/100\n",
      "60/60 [==============================] - 1s 12ms/step - loss: 5.3674e-04 - mean_absolute_percentage_error: 4534.2213 - val_loss: 0.0090 - val_mean_absolute_percentage_error: 50.4342\n",
      "Epoch 89/100\n",
      "60/60 [==============================] - 1s 13ms/step - loss: 7.4628e-04 - mean_absolute_percentage_error: 5107.6960 - val_loss: 0.0089 - val_mean_absolute_percentage_error: 57.5253\n",
      "Epoch 90/100\n",
      "60/60 [==============================] - 1s 14ms/step - loss: 5.2898e-04 - mean_absolute_percentage_error: 890.8833 - val_loss: 0.0090 - val_mean_absolute_percentage_error: 52.2190\n",
      "Epoch 91/100\n",
      "60/60 [==============================] - 1s 13ms/step - loss: 5.5208e-04 - mean_absolute_percentage_error: 15473.7051 - val_loss: 0.0089 - val_mean_absolute_percentage_error: 49.8681\n",
      "Epoch 92/100\n",
      "60/60 [==============================] - 1s 14ms/step - loss: 5.0921e-04 - mean_absolute_percentage_error: 311.3640 - val_loss: 0.0095 - val_mean_absolute_percentage_error: 107.6106\n",
      "Epoch 93/100\n",
      "60/60 [==============================] - 1s 16ms/step - loss: 6.2424e-04 - mean_absolute_percentage_error: 21045.3936 - val_loss: 0.0089 - val_mean_absolute_percentage_error: 65.2909\n",
      "Epoch 94/100\n",
      "60/60 [==============================] - 1s 16ms/step - loss: 7.3916e-04 - mean_absolute_percentage_error: 2409.0712 - val_loss: 0.0089 - val_mean_absolute_percentage_error: 82.3333\n",
      "Epoch 95/100\n",
      "60/60 [==============================] - 1s 13ms/step - loss: 6.3060e-04 - mean_absolute_percentage_error: 1348.6578 - val_loss: 0.0092 - val_mean_absolute_percentage_error: 75.1126\n",
      "Epoch 96/100\n",
      "60/60 [==============================] - 1s 15ms/step - loss: 5.7687e-04 - mean_absolute_percentage_error: 13783.4359 - val_loss: 0.0090 - val_mean_absolute_percentage_error: 48.7118\n",
      "Epoch 97/100\n",
      "60/60 [==============================] - 1s 13ms/step - loss: 5.5384e-04 - mean_absolute_percentage_error: 10653.2517 - val_loss: 0.0089 - val_mean_absolute_percentage_error: 56.4431\n",
      "Epoch 98/100\n",
      "60/60 [==============================] - 1s 13ms/step - loss: 4.9545e-04 - mean_absolute_percentage_error: 722.0333 - val_loss: 0.0090 - val_mean_absolute_percentage_error: 58.1181\n",
      "Epoch 99/100\n",
      "60/60 [==============================] - 1s 13ms/step - loss: 5.3736e-04 - mean_absolute_percentage_error: 239.5616 - val_loss: 0.0089 - val_mean_absolute_percentage_error: 67.8654\n",
      "Epoch 100/100\n",
      "60/60 [==============================] - 1s 12ms/step - loss: 7.1406e-04 - mean_absolute_percentage_error: 849.5865 - val_loss: 0.0092 - val_mean_absolute_percentage_error: 54.1428\n"
     ]
    }
   ],
   "source": [
    "# compile the second model\n",
    "model2.compile(optimizer='adam', \n",
    "               loss='mean_squared_error',\n",
    "               metrics = [\"mean_absolute_percentage_error\"])\n",
    "\n",
    "history2 = model2.fit(X, y, \n",
    "                    batch_size=20,\n",
    "                    epochs=100,\n",
    "                    validation_data=(Xt, yt))\n"
   ]
  },
  {
   "cell_type": "code",
   "execution_count": 42,
   "metadata": {},
   "outputs": [
    {
     "data": {
      "text/plain": [
       "dict_keys(['loss', 'mean_absolute_percentage_error', 'val_loss', 'val_mean_absolute_percentage_error'])"
      ]
     },
     "execution_count": 42,
     "metadata": {},
     "output_type": "execute_result"
    }
   ],
   "source": [
    "history_dict2 = history2.history\n",
    "history_dict2.keys()"
   ]
  },
  {
   "cell_type": "code",
   "execution_count": 43,
   "metadata": {},
   "outputs": [
    {
     "data": {
      "image/png": "[encoded data removed]",
      "text/plain": [
       "<Figure size 432x288 with 1 Axes>"
      ]
     },
     "metadata": {
      "needs_background": "light"
     },
     "output_type": "display_data"
    }
   ],
   "source": [
    "history_dict2 = history2.history\n",
    "loss_values = history_dict2['loss']\n",
    "\n",
    "epochs = range(1, len(loss_values) + 1)\n",
    "plt.plot(epochs, loss_values, 'g', label='Training loss')\n",
    "\n",
    "plt.title('Training loss')\n",
    "plt.xlabel('Epochs')\n",
    "plt.ylabel('Loss')\n",
    "plt.legend()\n",
    "plt.show()"
   ]
  },
  {
   "cell_type": "code",
   "execution_count": 44,
   "metadata": {},
   "outputs": [
    {
     "data": {
      "image/png": "[encoded data removed]",
      "text/plain": [
       "<Figure size 432x288 with 1 Axes>"
      ]
     },
     "metadata": {
      "needs_background": "light"
     },
     "output_type": "display_data"
    }
   ],
   "source": [
    "mape_values = history_dict2[\"mean_absolute_percentage_error\"] \n",
    "\n",
    "plt.plot(epochs, mape_values, 'r', label='Training MAPE')\n",
    "plt.title('Training Acc')\n",
    "plt.xlabel('Epochs')\n",
    "plt.ylabel('Mape')\n",
    "plt.legend()\n",
    "plt.show()"
   ]
  },
  {
   "cell_type": "code",
   "execution_count": 45,
   "metadata": {},
   "outputs": [],
   "source": [
    "#Get the model predicted Price values\n",
    "predictions2 = model2.predict(Xt)\n",
    "predictions2 = sy.inverse_transform(predictions2)\n",
    "yt_unscaled2 = sy.inverse_transform(yt)"
   ]
  },
  {
   "cell_type": "code",
   "execution_count": 46,
   "metadata": {},
   "outputs": [
    {
     "data": {
      "text/plain": [
       "3.1762990424013293"
      ]
     },
     "execution_count": 46,
     "metadata": {},
     "output_type": "execute_result"
    }
   ],
   "source": [
    "#Get the root mean squared error (Average value (y_hat - y_test))\n",
    "rmse2 = np.sqrt(((predictions2 - yt_unscaled) ** 2).mean())\n",
    "rmse2"
   ]
  },
  {
   "cell_type": "code",
   "execution_count": 47,
   "metadata": {},
   "outputs": [
    {
     "name": "stdout",
     "output_type": "stream",
     "text": [
      "38/38 [==============================] - 0s 3ms/step - loss: 7.9567e-04 - mean_absolute_percentage_error: 1910.1117\n",
      "Training Loss: 0.000796 \n",
      "Training MAPE: 1.91e+03\n",
      "----------\n",
      "10/10 [==============================] - 0s 3ms/step - loss: 0.0092 - mean_absolute_percentage_error: 54.1428 \n",
      "Test Loss: 0.00925 \n",
      "Test MAPE: 54.1\n",
      "RMSE: 3.1762990424013293\n"
     ]
    }
   ],
   "source": [
    "results_train = model2.evaluate(X, y)\n",
    "print(f'Training Loss: {results_train[0]:.3} \\nTraining MAPE: {results_train[1]:.3}')\n",
    "\n",
    "print('----------')\n",
    "\n",
    "results_test = model2.evaluate(Xt, yt)\n",
    "print(f'Test Loss: {results_test[0]:.3} \\nTest MAPE: {results_test[1]:.3}')\n",
    "print('RMSE:', rmse2)"
   ]
  },
  {
   "cell_type": "code",
   "execution_count": 48,
   "metadata": {},
   "outputs": [
    {
     "data": {
      "image/png": "[encoded data removed]",
      "text/plain": [
       "<Figure size 1152x576 with 1 Axes>"
      ]
     },
     "metadata": {
      "needs_background": "light"
     },
     "output_type": "display_data"
    }
   ],
   "source": [
    "#plot the data\n",
    "data = df.filter(['Close'])\n",
    "train2 = data[:training_data_len]\n",
    "valid2 = data[training_data_len:]\n",
    "valid2['Predictions'] = predictions2\n",
    "#Visualize the data\n",
    "plt.figure(figsize= (16, 8))\n",
    "plt.title('Final Model')\n",
    "plt.xlabel('Date', fontsize=18)\n",
    "plt.ylabel('Close Price USD ($)', fontsize=18)\n",
    "plt.plot(train2['Close'])\n",
    "plt.plot(valid2[['Close', 'Predictions']])\n",
    "plt.legend(['Train', 'Val', 'Predictions'], loc='lower right')\n",
    "plt.show()"
   ]
  },
  {
   "cell_type": "code",
   "execution_count": 49,
   "metadata": {
    "scrolled": true
   },
   "outputs": [],
   "source": [
    "Prediction = valid2.sort_index(ascending=False)\n"
   ]
  },
  {
   "cell_type": "code",
   "execution_count": 50,
   "metadata": {},
   "outputs": [
    {
     "data": {
      "text/html": [
       "<div>\n",
       "<style scoped>\n",
       "    .dataframe tbody tr th:only-of-type {\n",
       "        vertical-align: middle;\n",
       "    }\n",
       "\n",
       "    .dataframe tbody tr th {\n",
       "        vertical-align: top;\n",
       "    }\n",
       "\n",
       "    .dataframe thead th {\n",
       "        text-align: right;\n",
       "    }\n",
       "</style>\n",
       "<table border=\"1\" class=\"dataframe\">\n",
       "  <thead>\n",
       "    <tr style=\"text-align: right;\">\n",
       "      <th></th>\n",
       "      <th>Close</th>\n",
       "      <th>Predictions</th>\n",
       "    </tr>\n",
       "    <tr>\n",
       "      <th>Date</th>\n",
       "      <th></th>\n",
       "      <th></th>\n",
       "    </tr>\n",
       "  </thead>\n",
       "  <tbody>\n",
       "    <tr>\n",
       "      <th>2021-06-07</th>\n",
       "      <td>55.000000</td>\n",
       "      <td>48.889351</td>\n",
       "    </tr>\n",
       "    <tr>\n",
       "      <th>2021-06-04</th>\n",
       "      <td>47.910000</td>\n",
       "      <td>42.691830</td>\n",
       "    </tr>\n",
       "    <tr>\n",
       "      <th>2021-06-03</th>\n",
       "      <td>51.340000</td>\n",
       "      <td>64.947922</td>\n",
       "    </tr>\n",
       "    <tr>\n",
       "      <th>2021-06-02</th>\n",
       "      <td>62.549999</td>\n",
       "      <td>31.781633</td>\n",
       "    </tr>\n",
       "    <tr>\n",
       "      <th>2021-06-01</th>\n",
       "      <td>32.040001</td>\n",
       "      <td>25.604116</td>\n",
       "    </tr>\n",
       "    <tr>\n",
       "      <th>2021-05-28</th>\n",
       "      <td>26.120001</td>\n",
       "      <td>25.780859</td>\n",
       "    </tr>\n",
       "    <tr>\n",
       "      <th>2021-05-27</th>\n",
       "      <td>26.520000</td>\n",
       "      <td>18.822283</td>\n",
       "    </tr>\n",
       "    <tr>\n",
       "      <th>2021-05-26</th>\n",
       "      <td>19.559999</td>\n",
       "      <td>15.532538</td>\n",
       "    </tr>\n",
       "    <tr>\n",
       "      <th>2021-05-25</th>\n",
       "      <td>16.410000</td>\n",
       "      <td>12.981937</td>\n",
       "    </tr>\n",
       "    <tr>\n",
       "      <th>2021-05-24</th>\n",
       "      <td>13.680000</td>\n",
       "      <td>11.772403</td>\n",
       "    </tr>\n",
       "  </tbody>\n",
       "</table>\n",
       "</div>"
      ],
      "text/plain": [
       "                Close  Predictions\n",
       "Date                              \n",
       "2021-06-07  55.000000    48.889351\n",
       "2021-06-04  47.910000    42.691830\n",
       "2021-06-03  51.340000    64.947922\n",
       "2021-06-02  62.549999    31.781633\n",
       "2021-06-01  32.040001    25.604116\n",
       "2021-05-28  26.120001    25.780859\n",
       "2021-05-27  26.520000    18.822283\n",
       "2021-05-26  19.559999    15.532538\n",
       "2021-05-25  16.410000    12.981937\n",
       "2021-05-24  13.680000    11.772403"
      ]
     },
     "execution_count": 50,
     "metadata": {},
     "output_type": "execute_result"
    }
   ],
   "source": [
    "Prediction.head(10)"
   ]
  },
  {
   "cell_type": "code",
   "execution_count": 51,
   "metadata": {
    "id": "k0DdWrH06SUh"
   },
   "outputs": [
    {
     "name": "stdout",
     "output_type": "stream",
     "text": [
      "My program took 834.117582321167 to run\n"
     ]
    }
   ],
   "source": [
    "print(\"My program took\", time.time() - start_time, \"to run\")"
   ]
  }
 ],
 "metadata": {
  "colab": {
   "collapsed_sections": [],
   "name": "Capstone",
   "provenance": []
  },
  "kernelspec": {
   "display_name": "Python 3",
   "language": "python",
   "name": "python3"
  },
  "language_info": {
   "codemirror_mode": {
    "name": "ipython",
    "version": 3
   },
   "file_extension": ".py",
   "mimetype": "text/x-python",
   "name": "python",
   "nbconvert_exporter": "python",
   "pygments_lexer": "ipython3",
   "version": "3.6.9"
  }
 },
 "nbformat": 4,
 "nbformat_minor": 1
}
